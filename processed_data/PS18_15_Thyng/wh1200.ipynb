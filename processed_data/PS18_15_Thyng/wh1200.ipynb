{
 "cells": [
  {
   "cell_type": "markdown",
   "metadata": {},
   "source": [
    "# PS18_15_Thyng_ADCP_combined\n",
    "\n",
    "Run this from `~/adcpcode/data/adcp_processing/processed_data/ps1815`. All paths are relative to here.\n",
    "\n",
    "Note that images have been stored in a github issue so that they can be referenced inline here without actually being stored in the repository.\n",
    "\n",
    "There are two ADCP directories associated with this cruise that are merged here.\n",
    "\n",
    "The first cruise (PS18_15_Thyng_ADCP_Cal) had a transducer phase offset (45).\n",
    "For the second cruise (the rest of the data, PS18_15_Thyng_ADCP) that was mostly\n",
    "fixed, i.e. a better angle was used (48.8)."
   ]
  },
  {
   "cell_type": "code",
   "execution_count": 39,
   "metadata": {},
   "outputs": [],
   "source": [
    "import os\n",
    "from IPython.display import display, Image\n",
    "from glob import glob\n",
    "import matplotlib.pyplot as plt\n",
    "import pandas as pd\n",
    "import numpy as np\n",
    "from scipy.optimize import curve_fit\n",
    "\n",
    "# define aliases for use within notebook\n",
    "%alias dv python /Users/kthyng/opt/miniconda3/envs/pycodas/bin/dataviewer.py\n",
    "%alias fv python /Users/kthyng/opt/miniconda3/envs/pycodas/bin/figview.py"
   ]
  },
  {
   "cell_type": "code",
   "execution_count": 2,
   "metadata": {},
   "outputs": [],
   "source": [
    "# these are specific to this notebook\n",
    "cruiseid = 'PS18_15_Thyng'\n",
    "device = 'wh1200'"
   ]
  },
  {
   "cell_type": "markdown",
   "metadata": {},
   "source": [
    "## Preprocessing\n",
    "\n",
    "We need to preprocess because there are two directories of ADCP output with different transducer phase offsets."
   ]
  },
  {
   "cell_type": "markdown",
   "metadata": {},
   "source": [
    "### Merge ADCP data\n",
    "\n",
    "Merge the 2 datasets into one dataset"
   ]
  },
  {
   "cell_type": "code",
   "execution_count": 3,
   "metadata": {},
   "outputs": [],
   "source": [
    "datapath = '\"/Volumes/GoogleDrive/Shared drives/NSF Rapid Response: Thyng & Socolofsky/HRRO2 November 5-8 2017/ADCP: Point Sur/PS18_15_Thyng_ADCP\"'\n",
    "datapathcal = '\"/Volumes/GoogleDrive/Shared drives/NSF Rapid Response: Thyng & Socolofsky/HRRO2 November 5-8 2017/ADCP: Point Sur/PS18_15_Thyng_ADCP_Cal\"'\n",
    "# cruisepath = '/Users/kthyng/projects/adcp_processing/processed_data/' + cruiseid\n",
    "datapathmerged = '/Users/kthyng/projects/adcp_processing/processed_data/' + cruiseid + '/PS18_15_Thyng_ADCP_merged/'\n",
    "\n",
    "datapathorig = datapath + '/proc/' + device\n"
   ]
  },
  {
   "cell_type": "code",
   "execution_count": 4,
   "metadata": {
    "collapsed": true,
    "jupyter": {
     "outputs_hidden": true
    }
   },
   "outputs": [
    {
     "name": "stdout",
     "output_type": "stream",
     "text": [
      "making directory /Users/kthyng/projects/adcp_processing/processed_data/PS18_15_Thyng/PS18_15_Thyng_ADCP_merged/raw\n",
      "making directory /Users/kthyng/projects/adcp_processing/processed_data/PS18_15_Thyng/PS18_15_Thyng_ADCP_merged/rbin\n",
      "------ raw -----\n",
      "\n",
      "making directory /Users/kthyng/projects/adcp_processing/processed_data/PS18_15_Thyng/PS18_15_Thyng_ADCP_merged/raw/adu800\n",
      "linking  /Volumes/GoogleDrive/Shared drives/NSF Rapid Response: Thyng & Socolofsky/HRRO2 November 5-8 2017/ADCP: Point Sur/PS18_15_Thyng_ADCP_Cal/raw/adu800/* to /Users/kthyng/projects/adcp_processing/processed_data/PS18_15_Thyng/PS18_15_Thyng_ADCP_merged/raw/adu800/*\n",
      "\n",
      "making directory /Users/kthyng/projects/adcp_processing/processed_data/PS18_15_Thyng/PS18_15_Thyng_ADCP_merged/raw/gpsnav\n",
      "linking  /Volumes/GoogleDrive/Shared drives/NSF Rapid Response: Thyng & Socolofsky/HRRO2 November 5-8 2017/ADCP: Point Sur/PS18_15_Thyng_ADCP_Cal/raw/gpsnav/* to /Users/kthyng/projects/adcp_processing/processed_data/PS18_15_Thyng/PS18_15_Thyng_ADCP_merged/raw/gpsnav/*\n",
      "\n",
      "making directory /Users/kthyng/projects/adcp_processing/processed_data/PS18_15_Thyng/PS18_15_Thyng_ADCP_merged/raw/gpsnav_bx982\n",
      "linking  /Volumes/GoogleDrive/Shared drives/NSF Rapid Response: Thyng & Socolofsky/HRRO2 November 5-8 2017/ADCP: Point Sur/PS18_15_Thyng_ADCP_Cal/raw/gpsnav_bx982/* to /Users/kthyng/projects/adcp_processing/processed_data/PS18_15_Thyng/PS18_15_Thyng_ADCP_merged/raw/gpsnav_bx982/*\n",
      "\n",
      "making directory /Users/kthyng/projects/adcp_processing/processed_data/PS18_15_Thyng/PS18_15_Thyng_ADCP_merged/raw/gyro\n",
      "linking  /Volumes/GoogleDrive/Shared drives/NSF Rapid Response: Thyng & Socolofsky/HRRO2 November 5-8 2017/ADCP: Point Sur/PS18_15_Thyng_ADCP_Cal/raw/gyro/* to /Users/kthyng/projects/adcp_processing/processed_data/PS18_15_Thyng/PS18_15_Thyng_ADCP_merged/raw/gyro/*\n",
      "\n",
      "making directory /Users/kthyng/projects/adcp_processing/processed_data/PS18_15_Thyng/PS18_15_Thyng_ADCP_merged/raw/wh300\n",
      "linking  /Volumes/GoogleDrive/Shared drives/NSF Rapid Response: Thyng & Socolofsky/HRRO2 November 5-8 2017/ADCP: Point Sur/PS18_15_Thyng_ADCP_Cal/raw/wh300/* to /Users/kthyng/projects/adcp_processing/processed_data/PS18_15_Thyng/PS18_15_Thyng_ADCP_merged/raw/wh300/*\n",
      "\n",
      "making directory /Users/kthyng/projects/adcp_processing/processed_data/PS18_15_Thyng/PS18_15_Thyng_ADCP_merged/raw/os75\n",
      "linking  /Volumes/GoogleDrive/Shared drives/NSF Rapid Response: Thyng & Socolofsky/HRRO2 November 5-8 2017/ADCP: Point Sur/PS18_15_Thyng_ADCP_Cal/raw/os75/* to /Users/kthyng/projects/adcp_processing/processed_data/PS18_15_Thyng/PS18_15_Thyng_ADCP_merged/raw/os75/*\n",
      "\n",
      "making directory /Users/kthyng/projects/adcp_processing/processed_data/PS18_15_Thyng/PS18_15_Thyng_ADCP_merged/raw/wh1200\n",
      "linking  /Volumes/GoogleDrive/Shared drives/NSF Rapid Response: Thyng & Socolofsky/HRRO2 November 5-8 2017/ADCP: Point Sur/PS18_15_Thyng_ADCP_Cal/raw/wh1200/* to /Users/kthyng/projects/adcp_processing/processed_data/PS18_15_Thyng/PS18_15_Thyng_ADCP_merged/raw/wh1200/*\n",
      "\n",
      "------ rbin -----\n",
      "\n",
      "making directory /Users/kthyng/projects/adcp_processing/processed_data/PS18_15_Thyng/PS18_15_Thyng_ADCP_merged/rbin/gpsnav_bx982\n",
      "linking  /Volumes/GoogleDrive/Shared drives/NSF Rapid Response: Thyng & Socolofsky/HRRO2 November 5-8 2017/ADCP: Point Sur/PS18_15_Thyng_ADCP_Cal/rbin/gpsnav_bx982/* to /Users/kthyng/projects/adcp_processing/processed_data/PS18_15_Thyng/PS18_15_Thyng_ADCP_merged/rbin/gpsnav_bx982/*\n",
      "\n",
      "making directory /Users/kthyng/projects/adcp_processing/processed_data/PS18_15_Thyng/PS18_15_Thyng_ADCP_merged/rbin/gpsnav\n",
      "linking  /Volumes/GoogleDrive/Shared drives/NSF Rapid Response: Thyng & Socolofsky/HRRO2 November 5-8 2017/ADCP: Point Sur/PS18_15_Thyng_ADCP_Cal/rbin/gpsnav/* to /Users/kthyng/projects/adcp_processing/processed_data/PS18_15_Thyng/PS18_15_Thyng_ADCP_merged/rbin/gpsnav/*\n",
      "\n",
      "making directory /Users/kthyng/projects/adcp_processing/processed_data/PS18_15_Thyng/PS18_15_Thyng_ADCP_merged/rbin/gyro\n",
      "linking  /Volumes/GoogleDrive/Shared drives/NSF Rapid Response: Thyng & Socolofsky/HRRO2 November 5-8 2017/ADCP: Point Sur/PS18_15_Thyng_ADCP_Cal/rbin/gyro/* to /Users/kthyng/projects/adcp_processing/processed_data/PS18_15_Thyng/PS18_15_Thyng_ADCP_merged/rbin/gyro/*\n",
      "\n",
      "making directory /Users/kthyng/projects/adcp_processing/processed_data/PS18_15_Thyng/PS18_15_Thyng_ADCP_merged/rbin/adu800\n",
      "linking  /Volumes/GoogleDrive/Shared drives/NSF Rapid Response: Thyng & Socolofsky/HRRO2 November 5-8 2017/ADCP: Point Sur/PS18_15_Thyng_ADCP_Cal/rbin/adu800/* to /Users/kthyng/projects/adcp_processing/processed_data/PS18_15_Thyng/PS18_15_Thyng_ADCP_merged/rbin/adu800/*\n",
      "\n",
      "------ raw -----\n",
      "\n",
      "linking  /Volumes/GoogleDrive/Shared drives/NSF Rapid Response: Thyng & Socolofsky/HRRO2 November 5-8 2017/ADCP: Point Sur/PS18_15_Thyng_ADCP/raw/adu800/* to /Users/kthyng/projects/adcp_processing/processed_data/PS18_15_Thyng/PS18_15_Thyng_ADCP_merged/raw/adu800/*\n",
      "\n",
      "linking  /Volumes/GoogleDrive/Shared drives/NSF Rapid Response: Thyng & Socolofsky/HRRO2 November 5-8 2017/ADCP: Point Sur/PS18_15_Thyng_ADCP/raw/os75/* to /Users/kthyng/projects/adcp_processing/processed_data/PS18_15_Thyng/PS18_15_Thyng_ADCP_merged/raw/os75/*\n",
      "\n",
      "target /Users/kthyng/projects/adcp_processing/processed_data/PS18_15_Thyng/PS18_15_Thyng_ADCP_merged/raw/os75/current.cmd exists.  Not linking\n",
      "linking  /Volumes/GoogleDrive/Shared drives/NSF Rapid Response: Thyng & Socolofsky/HRRO2 November 5-8 2017/ADCP: Point Sur/PS18_15_Thyng_ADCP/raw/wh300/* to /Users/kthyng/projects/adcp_processing/processed_data/PS18_15_Thyng/PS18_15_Thyng_ADCP_merged/raw/wh300/*\n",
      "\n",
      "target /Users/kthyng/projects/adcp_processing/processed_data/PS18_15_Thyng/PS18_15_Thyng_ADCP_merged/raw/wh300/current.cmd exists.  Not linking\n",
      "linking  /Volumes/GoogleDrive/Shared drives/NSF Rapid Response: Thyng & Socolofsky/HRRO2 November 5-8 2017/ADCP: Point Sur/PS18_15_Thyng_ADCP/raw/gyro/* to /Users/kthyng/projects/adcp_processing/processed_data/PS18_15_Thyng/PS18_15_Thyng_ADCP_merged/raw/gyro/*\n",
      "\n",
      "linking  /Volumes/GoogleDrive/Shared drives/NSF Rapid Response: Thyng & Socolofsky/HRRO2 November 5-8 2017/ADCP: Point Sur/PS18_15_Thyng_ADCP/raw/gpsnav_bx982/* to /Users/kthyng/projects/adcp_processing/processed_data/PS18_15_Thyng/PS18_15_Thyng_ADCP_merged/raw/gpsnav_bx982/*\n",
      "\n",
      "linking  /Volumes/GoogleDrive/Shared drives/NSF Rapid Response: Thyng & Socolofsky/HRRO2 November 5-8 2017/ADCP: Point Sur/PS18_15_Thyng_ADCP/raw/gpsnav/* to /Users/kthyng/projects/adcp_processing/processed_data/PS18_15_Thyng/PS18_15_Thyng_ADCP_merged/raw/gpsnav/*\n",
      "\n",
      "linking  /Volumes/GoogleDrive/Shared drives/NSF Rapid Response: Thyng & Socolofsky/HRRO2 November 5-8 2017/ADCP: Point Sur/PS18_15_Thyng_ADCP/raw/wh1200/* to /Users/kthyng/projects/adcp_processing/processed_data/PS18_15_Thyng/PS18_15_Thyng_ADCP_merged/raw/wh1200/*\n",
      "\n",
      "target /Users/kthyng/projects/adcp_processing/processed_data/PS18_15_Thyng/PS18_15_Thyng_ADCP_merged/raw/wh1200/current.cmd exists.  Not linking\n",
      "------ rbin -----\n",
      "\n",
      "linking  /Volumes/GoogleDrive/Shared drives/NSF Rapid Response: Thyng & Socolofsky/HRRO2 November 5-8 2017/ADCP: Point Sur/PS18_15_Thyng_ADCP/rbin/adu800/* to /Users/kthyng/projects/adcp_processing/processed_data/PS18_15_Thyng/PS18_15_Thyng_ADCP_merged/rbin/adu800/*\n",
      "\n",
      "linking  /Volumes/GoogleDrive/Shared drives/NSF Rapid Response: Thyng & Socolofsky/HRRO2 November 5-8 2017/ADCP: Point Sur/PS18_15_Thyng_ADCP/rbin/gpsnav/* to /Users/kthyng/projects/adcp_processing/processed_data/PS18_15_Thyng/PS18_15_Thyng_ADCP_merged/rbin/gpsnav/*\n",
      "\n",
      "linking  /Volumes/GoogleDrive/Shared drives/NSF Rapid Response: Thyng & Socolofsky/HRRO2 November 5-8 2017/ADCP: Point Sur/PS18_15_Thyng_ADCP/rbin/gpsnav_bx982/* to /Users/kthyng/projects/adcp_processing/processed_data/PS18_15_Thyng/PS18_15_Thyng_ADCP_merged/rbin/gpsnav_bx982/*\n",
      "\n",
      "linking  /Volumes/GoogleDrive/Shared drives/NSF Rapid Response: Thyng & Socolofsky/HRRO2 November 5-8 2017/ADCP: Point Sur/PS18_15_Thyng_ADCP/rbin/gyro/* to /Users/kthyng/projects/adcp_processing/processed_data/PS18_15_Thyng/PS18_15_Thyng_ADCP_merged/rbin/gyro/*\n",
      "\n"
     ]
    }
   ],
   "source": [
    "!mkdir $datapathmerged\n",
    "\n",
    "!link_uhdaslegs.py $datapathcal  $datapathmerged\n",
    "!link_uhdaslegs.py $datapath     $datapathmerged\n"
   ]
  },
  {
   "cell_type": "code",
   "execution_count": 5,
   "metadata": {},
   "outputs": [],
   "source": [
    "# for accessing post-processing of data\n",
    "procpath = '/Users/kthyng/projects/adcp_processing/processed_data/' + cruiseid + '/postproc/' + device\n",
    "\n",
    "# root of post-processing directory\n",
    "procpathroot = '/Users/kthyng/projects/adcp_processing/processed_data/' + cruiseid + '/postproc/'"
   ]
  },
  {
   "cell_type": "markdown",
   "metadata": {},
   "source": [
    "### Setup\n",
    "\n"
   ]
  },
  {
   "cell_type": "code",
   "execution_count": 6,
   "metadata": {},
   "outputs": [
    {
     "name": "stdout",
     "output_type": "stream",
     "text": [
      "/Users/kthyng/projects/adcp_processing/processed_data/PS18_15_Thyng/postproc/wh1200\n",
      "/Users/kthyng/projects/adcp_processing/processed_data/PS18_15_Thyng/postproc\n"
     ]
    }
   ],
   "source": [
    "!mkdir $procpathroot\n",
    "!mkdir $procpath\n",
    "\n",
    "configpathorig = datapath + '/proc/' + device + '/config/'\n",
    "configfile = configpathorig + 'PS18_15_Thyng_proc.py'\n",
    "configpath = 'config'\n",
    "\n",
    "%cd $procpath\n",
    "!mkdir config\n",
    "!cp $configfile $configpath\n",
    "%cd $procpathroot"
   ]
  },
  {
   "cell_type": "markdown",
   "metadata": {},
   "source": [
    "Change line in file PS18_15_Thyng_proc.py with `sed`:"
   ]
  },
  {
   "cell_type": "code",
   "execution_count": 7,
   "metadata": {},
   "outputs": [],
   "source": [
    "str1 = 's,/home/data/PS18_15_Thyng,/Users/kthyng/projects/adcp_processing/processed_data/PS18_15_Thyng/PS18_15_Thyng_ADCP_merged/,g'\n",
    "str2 = '/Users/kthyng/projects/adcp_processing/processed_data/PS18_15_Thyng/postproc/wh1200/config/PS18_15_Thyng_proc.py'\n",
    "\n",
    "# change cruise location\n",
    "!sed -i \"\" -e $str1 $str2\n"
   ]
  },
  {
   "cell_type": "markdown",
   "metadata": {},
   "source": [
    "Run adcptree"
   ]
  },
  {
   "cell_type": "code",
   "execution_count": 8,
   "metadata": {},
   "outputs": [
    {
     "data": {
      "text/plain": [
       "'/Users/kthyng/projects/adcp_processing/processed_data/PS18_15_Thyng/postproc'"
      ]
     },
     "execution_count": 8,
     "metadata": {},
     "output_type": "execute_result"
    }
   ],
   "source": [
    "pwd"
   ]
  },
  {
   "cell_type": "code",
   "execution_count": 9,
   "metadata": {},
   "outputs": [
    {
     "name": "stdout",
     "output_type": "stream",
     "text": [
      "found adcp templates at  /Users/kthyng/opt/miniconda3/envs/pycodas/lib/python3.7/site-packages/pycurrents-0.0.0-py3.7-macosx-10.9-x86_64.egg/pycurrents/adcp/templates\n",
      "otherdemo is /Users/kthyng/opt/miniconda3/envs/pycodas/lib/python3.7/site-packages/pycurrents-0.0.0-py3.7-macosx-10.9-x86_64.egg/pycurrents/adcp/templates/uhdas_template\n",
      "\n",
      "\n",
      "** data type is uhdas\n",
      "- copying additional files for data type uhdas\n",
      "\n",
      "Traceback (most recent call last):\n",
      "  File \"/Users/kthyng/opt/miniconda3/envs/pycodas/bin/adcptree.py\", line 4, in <module>\n",
      "    __import__('pkg_resources').run_script('pycurrents==0.0.0', 'adcptree.py')\n",
      "  File \"/Users/kthyng/opt/miniconda3/envs/pycodas/lib/python3.7/site-packages/pkg_resources/__init__.py\", line 665, in run_script\n",
      "    self.require(requires)[0].run_script(script_name, ns)\n",
      "  File \"/Users/kthyng/opt/miniconda3/envs/pycodas/lib/python3.7/site-packages/pkg_resources/__init__.py\", line 1463, in run_script\n",
      "    exec(code, namespace, namespace)\n",
      "  File \"/Users/kthyng/opt/miniconda3/envs/pycodas/lib/python3.7/site-packages/pycurrents-0.0.0-py3.7-macosx-10.9-x86_64.egg/EGG-INFO/scripts/adcptree.py\", line 338, in <module>\n",
      "    main()\n",
      "  File \"/Users/kthyng/opt/miniconda3/envs/pycodas/lib/python3.7/site-packages/pycurrents-0.0.0-py3.7-macosx-10.9-x86_64.egg/EGG-INFO/scripts/adcptree.py\", line 319, in main\n",
      "    [fullprocdir, uh_progs, cfg_star] = populate(opts, otherdemo)\n",
      "  File \"/Users/kthyng/opt/miniconda3/envs/pycodas/lib/python3.7/site-packages/pycurrents-0.0.0-py3.7-macosx-10.9-x86_64.egg/EGG-INFO/scripts/adcptree.py\", line 206, in populate\n",
      "    os.mkdir(proc_config_dir)\n",
      "FileExistsError: [Errno 17] File exists: 'wh1200/config'\n"
     ]
    }
   ],
   "source": [
    "!adcptree.py  $device --datatype uhdas --cruisename $cruiseid"
   ]
  },
  {
   "cell_type": "code",
   "execution_count": 10,
   "metadata": {},
   "outputs": [],
   "source": [
    "# This is to catch the output from the following cell command\n",
    "logfile = os.path.join(procpath, device + '.txt')  # make logfile in new processing directory"
   ]
  },
  {
   "cell_type": "code",
   "execution_count": 11,
   "metadata": {},
   "outputs": [],
   "source": [
    "# get helpful instructions, capture them into \"filename\", and move \"filename\" into the data_postproc directory\n",
    "!quick_adcp.py --commands postproc > $logfile"
   ]
  },
  {
   "cell_type": "code",
   "execution_count": 12,
   "metadata": {},
   "outputs": [],
   "source": [
    "# prepend the log file with the cruise info\n",
    "temppath = os.path.join(datapathorig, 'cruise_info.txt') # path to cruise_info file\n",
    "!cat $temppath $logfile  > tempfile.txt  # prepend cruise_info then logfile into new file\n",
    "!mv tempfile.txt $logfile                # move new file into old logfile"
   ]
  },
  {
   "cell_type": "code",
   "execution_count": 13,
   "metadata": {},
   "outputs": [
    {
     "name": "stdout",
     "output_type": "stream",
     "text": [
      "LAST CHANGED    : 2017/11/09 01:00:46\n",
      "CRUISE NAME(S)  : PS18_15_Thyng\n",
      "CRUISE DATES    : 2017/11/06 17:16:05 to 2017/11/06 17:18:16\n",
      "SHIP NAME       : unspecified\n",
      "PORTS           : unspecified\n",
      "CHIEF SCIENTIST : unspecified\n",
      "DATABASE NAME   : a_ps\n",
      "DATA FILES      : ps2017_309_62164.raw to ps2017_312_00000.raw\n",
      "\n",
      "STATUS          :  to do                           done\n",
      "                  ------                       -----------\n",
      "                  averaged                       [     ]\n",
      "                  loaded                         [     ]\n",
      "\n",
      "                  NOTE: heading correction instrument exists\n",
      "                        NOTE: time-dependent heading corrections\n",
      "                        applied IN the ensembles\n",
      "                        (see   cal/rotate/ens_hcorr.ang)\n",
      "\n",
      "                  check heading correction       [     ]\n",
      "                  calibration                    [     ]\n",
      "                  edited                         [     ]\n",
      "                  re-check heading correction    [     ]\n",
      "                  check editing                  [     ]\n",
      "                  figures                        [     ]\n",
      "\n",
      "INSTRUMENT      : wh1200\n",
      "\n",
      "ACQUISITION     : \n",
      "     PROGRAM    : uhdas\n",
      "     PROCESSING:    : python\n",
      "\n",
      "LOGGING         : \n",
      "\n",
      "     PARAMETERS : BT : bottom track mode (on or off)\n",
      "                  SI : sampling interval or averaging period for ensemble (sec)\n",
      "                  NB : number of bins\n",
      "                  BL : bin length (m)\n",
      "                  TD : transducer depth (m)\n",
      "                  BK : blanking length (m)\n",
      "                  HO : heading offset applied by DAS (deg)\n",
      "                  HB : heading bias (deg)\n",
      "                  CRPH : compensation for roll-pitch-heading, 1:on, 0:off)\n",
      "                  \n",
      "                  yy/mm/dd  hh:mm:ss   BT   SI  NB  BL  TD BK     HO     HB CRPH\n",
      "                  2017/11/06 17:18:04   on  120  40   0   3  1  48.80   0.00 0001\n",
      "\n",
      "HEADING         : \n",
      "     PRIMARY    : heading from gyro\n",
      "     CORRECTION : heading correction from adu800\n",
      "                        NOTE: time-dependent heading corrections\n",
      "                        applied IN the ensembles\n",
      "                        (see   cal/rotate/ens_hcorr.ang)\n",
      "\n",
      "POSITIONS       : gps positions from gpsnav\n",
      "\n",
      "CALIBRATION     : (check original processing parameters)\n",
      "                  additional rotation 0\n",
      "                  final transducer angle is:\n",
      "                       (original transducer angle) - (rotate_angle)\n",
      "                  applied scale factor 1\n",
      "                  additional scale factor (none)\n",
      "\n",
      "COMMENTS        : gaps in heading correction?\n",
      "                  scattering layers?\n",
      "                  bubbles?\n",
      "                  underway bias?\n",
      "                  \n",
      "PROCESSOR       : I.M. Persistent\n",
      "\n",
      "\n",
      "--- processing parameters ----------\n",
      "\n",
      "\n",
      "## (determined from \"sonar\"): model = wh\n",
      "## (determined from \"sonar\"): frequency = 1200\n",
      "## (determined from \"sonar\"): instname = wh1200\n",
      "## (determined from \"sonar\"): pingtype = bb\n",
      "           beamangle   20\n",
      "          cruisename   PS18_15_Thyng\n",
      "            datatype   uhdas\n",
      "             ens_len   120\n",
      "             fixfile   a_ps.gps\n",
      "           frequency   1200\n",
      "          hcorr_inst   adu800\n",
      "            instname   wh1200\n",
      "               model   wh\n",
      "            pingtype   bb\n",
      "         proc_engine   python\n",
      "          ref_method   refsm\n",
      "     refuv_smoothwin   3\n",
      "        refuv_source   nav\n",
      "               sonar   wh1200\n",
      "            txy_file   a_ps.gps\n",
      "           xducer_dx   0\n",
      "           xducer_dy   0\n",
      "            yearbase   2017\n"
     ]
    }
   ],
   "source": [
    "# also save copy of cruise_info.txt here for reference\n",
    "!cat $temppath "
   ]
  },
  {
   "cell_type": "code",
   "execution_count": 14,
   "metadata": {},
   "outputs": [],
   "source": [
    "str1 = 's/km1001c/' + cruiseid + '/g'\n",
    "str2 = 's/os38nb/' + device + '/g'"
   ]
  },
  {
   "cell_type": "code",
   "execution_count": 15,
   "metadata": {},
   "outputs": [],
   "source": [
    "# This might only work on Mac/Linux\n",
    "# change default cruise name in file to this cruise name\n",
    "!sed -i \"\" -e $str1 $logfile\n",
    "# change default instrument name in file to this instrument\n",
    "!sed -i \"\" -e $str2 $logfile"
   ]
  },
  {
   "cell_type": "code",
   "execution_count": 16,
   "metadata": {},
   "outputs": [
    {
     "name": "stdout",
     "output_type": "stream",
     "text": [
      "/Users/kthyng/projects/adcp_processing/processed_data/PS18_15_Thyng/postproc/wh1200/wh1200.txt\n"
     ]
    }
   ],
   "source": [
    "# The instructions are located in:\n",
    "print(logfile)"
   ]
  },
  {
   "cell_type": "markdown",
   "metadata": {},
   "source": [
    "### Process from scratch\n",
    "\n",
    "After merging datasets, run processing here."
   ]
  },
  {
   "cell_type": "code",
   "execution_count": 17,
   "metadata": {},
   "outputs": [
    {
     "name": "stdout",
     "output_type": "stream",
     "text": [
      "/Users/kthyng/projects/adcp_processing/processed_data/PS18_15_Thyng/postproc/wh1200\n"
     ]
    }
   ],
   "source": [
    "%cd $procpath"
   ]
  },
  {
   "cell_type": "markdown",
   "metadata": {},
   "source": [
    "The following originated here: https://currents.soest.hawaii.edu/docs/adcp_doc/txtfiles/q_py_enr_heredoc.txt"
   ]
  },
  {
   "cell_type": "code",
   "execution_count": 18,
   "metadata": {},
   "outputs": [],
   "source": [
    "%%bash\n",
    "cat << EOF > q_py.cnt\n",
    "\n",
    "### q_py.cnt contents\n",
    "\n",
    "## all lines after the first \"#\" sign are ignored\n",
    " --yearbase    2017\n",
    " --cruisename  PS18_15_Thyng   # used to identify configuration files\n",
    "                         #  *must* match prefix of files in config dir\n",
    "\n",
    " --update_gbin   ## NOTE: You should generally remake gbins\n",
    "                 ## - you are not sure\n",
    "                 ## - if parameters for averaging changed\n",
    "                 ## - various other reasons.\n",
    "\n",
    "                 ## ==> MAKE SURE you move the original gbin directory\n",
    "                 ##     to another name first!!  Default directory\n",
    "                 ##     to make gbins is in uhdas_dir\n",
    "\n",
    "\n",
    "                 ## or... alternatively, use this parameter\n",
    " #--py_gbindirbase gbin # (will put them adjacent to q_py.cnt)\n",
    "\n",
    " --configtype python  ## use km1001c_proc.py for configuration\n",
    "\n",
    " --sonar       wh1200\n",
    " --dbname      a_ps\n",
    " --datatype    uhdas\n",
    " --ens_len     300\n",
    "\n",
    " --ping_headcorr        ## applies heading correction.\n",
    "                        ## this ONLY works if there is a heading\n",
    "                        ##     correction device specified in the\n",
    "                        ##     config/km1001c_proc.py file\n",
    "\n",
    " --max_search_depth 3000  #if the topography says the ocean is deeper\n",
    "                          # than this, do not autodetect the bottom.\n",
    "                          # (reduces likelihood of shallow scattering\n",
    "                          # layers being identified as the bottom)\n",
    "\n",
    "            \n",
    "EOF"
   ]
  },
  {
   "cell_type": "code",
   "execution_count": 19,
   "metadata": {},
   "outputs": [
    {
     "data": {
      "text/plain": [
       "'/Users/kthyng/projects/adcp_processing/processed_data/PS18_15_Thyng/postproc/wh1200'"
      ]
     },
     "execution_count": 19,
     "metadata": {},
     "output_type": "execute_result"
    }
   ],
   "source": [
    "pwd"
   ]
  },
  {
   "cell_type": "code",
   "execution_count": null,
   "metadata": {},
   "outputs": [],
   "source": []
  },
  {
   "cell_type": "code",
   "execution_count": 20,
   "metadata": {
    "collapsed": true,
    "jupyter": {
     "outputs_hidden": true
    }
   },
   "outputs": [
    {
     "name": "stdout",
     "output_type": "stream",
     "text": [
      "initializing cachefile dbinfo.txt\n",
      "no dbinfo.txt: initializing\n",
      "fix file is a_ps.gps\n",
      "reflayer: ref_method = refsm\n",
      "reflayer: refuv_source = nav\n",
      "reflayer: refuv_smoothwin = 3\n",
      "=====================================================\n",
      "=====================================================\n",
      "command line was: /Users/kthyng/opt/miniconda3/envs/pycodas/bin/quick_adcp.py --cntfile q_py.cnt --auto\n",
      "cwd is /Users/kthyng/projects/adcp_processing/processed_data/PS18_15_Thyng/postproc/wh1200\n",
      "about to run these steps:\n",
      " - write_clearflags\n",
      " - update_gbin\n",
      " - scandata\n",
      " - avg_and_load\n",
      " - codaseditsetup\n",
      " - setflags\n",
      " - getnav\n",
      " - lst_hdg\n",
      " - plot_headcorr\n",
      " - navsteps\n",
      " - lst_temp\n",
      " - plot_temp\n",
      " - lst_npings\n",
      " - calib\n",
      " - matfiles\n",
      " - adcpsect\n",
      " - refabs\n",
      " - smoothnav\n",
      " - putnav\n",
      " - refplots\n",
      " - codaseditsetup\n",
      "found 34 files using wildcard expansion relative to scan directory\n",
      "wildcard string was:   \"/Users/kthyng/projects/adcp_processing/processed_data/PS18_15_Thyng/PS18_15_Thyng_ADCP_merged/raw/wh1200/*.raw\"\n",
      "presently in scan, writing filelist to /Users/kthyng/projects/adcp_processing/processed_data/PS18_15_Thyng/postproc/wh1200/ping/datafile_list.txt\n",
      "found 34 raw data files\n",
      "---------------------------------------------\n",
      "step 1: set up files in \"edit\" directory \n",
      "\n",
      "... wrote edit/clearflags.tmp\n",
      "---------------------------------------------\n",
      "step 2: generate gbins\n",
      "\n",
      "rbin_to_gbin: timbin /Users/kthyng/projects/adcp_processing/processed_data/PS18_15_Thyng/PS18_15_Thyng_ADCP_merged/gbin/wh1200/time/ps2017_309_23598.tim.gbin not available\n",
      "rbin_to_gbin: timbin /Users/kthyng/projects/adcp_processing/processed_data/PS18_15_Thyng/PS18_15_Thyng_ADCP_merged/gbin/wh1200/time/ps2017_309_28800.tim.gbin not available\n",
      "rbin_to_gbin: timbin /Users/kthyng/projects/adcp_processing/processed_data/PS18_15_Thyng/PS18_15_Thyng_ADCP_merged/gbin/wh1200/time/ps2017_309_40842.tim.gbin not available\n",
      "rbin_to_gbin: timbin /Users/kthyng/projects/adcp_processing/processed_data/PS18_15_Thyng/PS18_15_Thyng_ADCP_merged/gbin/wh1200/time/ps2017_309_43200.tim.gbin not available\n",
      "rbin_to_gbin: timbin /Users/kthyng/projects/adcp_processing/processed_data/PS18_15_Thyng/PS18_15_Thyng_ADCP_merged/gbin/wh1200/time/ps2017_309_50400.tim.gbin not available\n",
      "rbin_to_gbin: timbin /Users/kthyng/projects/adcp_processing/processed_data/PS18_15_Thyng/PS18_15_Thyng_ADCP_merged/gbin/wh1200/time/ps2017_309_51446.tim.gbin not available\n",
      "rbin_to_gbin: timbin /Users/kthyng/projects/adcp_processing/processed_data/PS18_15_Thyng/PS18_15_Thyng_ADCP_merged/gbin/wh1200/time/ps2017_310_07200.tim.gbin not available\n",
      "rbin_to_gbin: timbin /Users/kthyng/projects/adcp_processing/processed_data/PS18_15_Thyng/PS18_15_Thyng_ADCP_merged/gbin/wh1200/time/ps2017_310_14400.tim.gbin not available\n",
      "rbin_to_gbin: timbin /Users/kthyng/projects/adcp_processing/processed_data/PS18_15_Thyng/PS18_15_Thyng_ADCP_merged/gbin/wh1200/time/ps2017_310_21600.tim.gbin not available\n",
      "rbin_to_gbin: timbin /Users/kthyng/projects/adcp_processing/processed_data/PS18_15_Thyng/PS18_15_Thyng_ADCP_merged/gbin/wh1200/time/ps2017_310_23612.tim.gbin not available\n",
      "rbin_to_gbin: timbin /Users/kthyng/projects/adcp_processing/processed_data/PS18_15_Thyng/PS18_15_Thyng_ADCP_merged/gbin/wh1200/time/ps2017_310_28800.tim.gbin not available\n",
      "rbin_to_gbin: timbin /Users/kthyng/projects/adcp_processing/processed_data/PS18_15_Thyng/PS18_15_Thyng_ADCP_merged/gbin/wh1200/time/ps2017_310_56772.tim.gbin not available\n",
      "rbin_to_gbin: timbin /Users/kthyng/projects/adcp_processing/processed_data/PS18_15_Thyng/PS18_15_Thyng_ADCP_merged/gbin/wh1200/time/ps2017_310_57600.tim.gbin not available\n",
      "rbin_to_gbin: timbin /Users/kthyng/projects/adcp_processing/processed_data/PS18_15_Thyng/PS18_15_Thyng_ADCP_merged/gbin/wh1200/time/ps2017_309_23598.tim.gbin not available\n",
      "rbin_to_gbin: timbin /Users/kthyng/projects/adcp_processing/processed_data/PS18_15_Thyng/PS18_15_Thyng_ADCP_merged/gbin/wh1200/time/ps2017_309_28800.tim.gbin not available\n",
      "rbin_to_gbin: timbin /Users/kthyng/projects/adcp_processing/processed_data/PS18_15_Thyng/PS18_15_Thyng_ADCP_merged/gbin/wh1200/time/ps2017_309_40842.tim.gbin not available\n",
      "rbin_to_gbin: timbin /Users/kthyng/projects/adcp_processing/processed_data/PS18_15_Thyng/PS18_15_Thyng_ADCP_merged/gbin/wh1200/time/ps2017_309_43200.tim.gbin not available\n",
      "rbin_to_gbin: timbin /Users/kthyng/projects/adcp_processing/processed_data/PS18_15_Thyng/PS18_15_Thyng_ADCP_merged/gbin/wh1200/time/ps2017_309_50400.tim.gbin not available\n",
      "rbin_to_gbin: timbin /Users/kthyng/projects/adcp_processing/processed_data/PS18_15_Thyng/PS18_15_Thyng_ADCP_merged/gbin/wh1200/time/ps2017_309_51446.tim.gbin not available\n",
      "rbin_to_gbin: timbin /Users/kthyng/projects/adcp_processing/processed_data/PS18_15_Thyng/PS18_15_Thyng_ADCP_merged/gbin/wh1200/time/ps2017_310_07200.tim.gbin not available\n",
      "rbin_to_gbin: timbin /Users/kthyng/projects/adcp_processing/processed_data/PS18_15_Thyng/PS18_15_Thyng_ADCP_merged/gbin/wh1200/time/ps2017_310_14400.tim.gbin not available\n",
      "rbin_to_gbin: timbin /Users/kthyng/projects/adcp_processing/processed_data/PS18_15_Thyng/PS18_15_Thyng_ADCP_merged/gbin/wh1200/time/ps2017_310_21600.tim.gbin not available\n",
      "In gps, masking records with nonincreasing dday: 18\n",
      "rbin_to_gbin: timbin /Users/kthyng/projects/adcp_processing/processed_data/PS18_15_Thyng/PS18_15_Thyng_ADCP_merged/gbin/wh1200/time/ps2017_310_23612.tim.gbin not available\n",
      "rbin_to_gbin: timbin /Users/kthyng/projects/adcp_processing/processed_data/PS18_15_Thyng/PS18_15_Thyng_ADCP_merged/gbin/wh1200/time/ps2017_310_28800.tim.gbin not available\n",
      "rbin_to_gbin: timbin /Users/kthyng/projects/adcp_processing/processed_data/PS18_15_Thyng/PS18_15_Thyng_ADCP_merged/gbin/wh1200/time/ps2017_310_56772.tim.gbin not available\n",
      "rbin_to_gbin: timbin /Users/kthyng/projects/adcp_processing/processed_data/PS18_15_Thyng/PS18_15_Thyng_ADCP_merged/gbin/wh1200/time/ps2017_310_57600.tim.gbin not available\n",
      "In gps, masking records with nonincreasing dday: 57\n",
      "rbin_to_gbin: timbin /Users/kthyng/projects/adcp_processing/processed_data/PS18_15_Thyng/PS18_15_Thyng_ADCP_merged/gbin/wh1200/time/ps2017_309_23598.tim.gbin not available\n",
      "rbin_to_gbin: timbin /Users/kthyng/projects/adcp_processing/processed_data/PS18_15_Thyng/PS18_15_Thyng_ADCP_merged/gbin/wh1200/time/ps2017_309_28800.tim.gbin not available\n",
      "rbin_to_gbin: timbin /Users/kthyng/projects/adcp_processing/processed_data/PS18_15_Thyng/PS18_15_Thyng_ADCP_merged/gbin/wh1200/time/ps2017_309_40842.tim.gbin not available\n",
      "rbin_to_gbin: timbin /Users/kthyng/projects/adcp_processing/processed_data/PS18_15_Thyng/PS18_15_Thyng_ADCP_merged/gbin/wh1200/time/ps2017_309_43200.tim.gbin not available\n",
      "rbin_to_gbin: timbin /Users/kthyng/projects/adcp_processing/processed_data/PS18_15_Thyng/PS18_15_Thyng_ADCP_merged/gbin/wh1200/time/ps2017_309_50400.tim.gbin not available\n",
      "rbin_to_gbin: timbin /Users/kthyng/projects/adcp_processing/processed_data/PS18_15_Thyng/PS18_15_Thyng_ADCP_merged/gbin/wh1200/time/ps2017_309_51446.tim.gbin not available\n",
      "rbin_to_gbin: timbin /Users/kthyng/projects/adcp_processing/processed_data/PS18_15_Thyng/PS18_15_Thyng_ADCP_merged/gbin/wh1200/time/ps2017_310_07200.tim.gbin not available\n",
      "rbin_to_gbin: timbin /Users/kthyng/projects/adcp_processing/processed_data/PS18_15_Thyng/PS18_15_Thyng_ADCP_merged/gbin/wh1200/time/ps2017_310_14400.tim.gbin not available\n",
      "rbin_to_gbin: timbin /Users/kthyng/projects/adcp_processing/processed_data/PS18_15_Thyng/PS18_15_Thyng_ADCP_merged/gbin/wh1200/time/ps2017_310_21600.tim.gbin not available\n",
      "rbin_to_gbin: timbin /Users/kthyng/projects/adcp_processing/processed_data/PS18_15_Thyng/PS18_15_Thyng_ADCP_merged/gbin/wh1200/time/ps2017_310_23612.tim.gbin not available\n",
      "rbin_to_gbin: timbin /Users/kthyng/projects/adcp_processing/processed_data/PS18_15_Thyng/PS18_15_Thyng_ADCP_merged/gbin/wh1200/time/ps2017_310_28800.tim.gbin not available\n",
      "rbin_to_gbin: timbin /Users/kthyng/projects/adcp_processing/processed_data/PS18_15_Thyng/PS18_15_Thyng_ADCP_merged/gbin/wh1200/time/ps2017_310_56772.tim.gbin not available\n",
      "rbin_to_gbin: timbin /Users/kthyng/projects/adcp_processing/processed_data/PS18_15_Thyng/PS18_15_Thyng_ADCP_merged/gbin/wh1200/time/ps2017_310_57600.tim.gbin not available\n",
      "rbin_to_gbin: timbin /Users/kthyng/projects/adcp_processing/processed_data/PS18_15_Thyng/PS18_15_Thyng_ADCP_merged/gbin/wh1200/time/ps2017_309_23598.tim.gbin not available\n",
      "rbin_to_gbin: timbin /Users/kthyng/projects/adcp_processing/processed_data/PS18_15_Thyng/PS18_15_Thyng_ADCP_merged/gbin/wh1200/time/ps2017_309_28800.tim.gbin not available\n",
      "rbin_to_gbin: timbin /Users/kthyng/projects/adcp_processing/processed_data/PS18_15_Thyng/PS18_15_Thyng_ADCP_merged/gbin/wh1200/time/ps2017_309_40842.tim.gbin not available\n",
      "rbin_to_gbin: timbin /Users/kthyng/projects/adcp_processing/processed_data/PS18_15_Thyng/PS18_15_Thyng_ADCP_merged/gbin/wh1200/time/ps2017_309_43200.tim.gbin not available\n",
      "rbin_to_gbin: timbin /Users/kthyng/projects/adcp_processing/processed_data/PS18_15_Thyng/PS18_15_Thyng_ADCP_merged/gbin/wh1200/time/ps2017_309_50400.tim.gbin not available\n",
      "rbin_to_gbin: timbin /Users/kthyng/projects/adcp_processing/processed_data/PS18_15_Thyng/PS18_15_Thyng_ADCP_merged/gbin/wh1200/time/ps2017_309_51446.tim.gbin not available\n",
      "rbin_to_gbin: timbin /Users/kthyng/projects/adcp_processing/processed_data/PS18_15_Thyng/PS18_15_Thyng_ADCP_merged/gbin/wh1200/time/ps2017_310_07200.tim.gbin not available\n",
      "rbin_to_gbin: timbin /Users/kthyng/projects/adcp_processing/processed_data/PS18_15_Thyng/PS18_15_Thyng_ADCP_merged/gbin/wh1200/time/ps2017_310_14400.tim.gbin not available\n",
      "rbin_to_gbin: timbin /Users/kthyng/projects/adcp_processing/processed_data/PS18_15_Thyng/PS18_15_Thyng_ADCP_merged/gbin/wh1200/time/ps2017_310_21600.tim.gbin not available\n",
      "rbin_to_gbin: timbin /Users/kthyng/projects/adcp_processing/processed_data/PS18_15_Thyng/PS18_15_Thyng_ADCP_merged/gbin/wh1200/time/ps2017_310_23612.tim.gbin not available\n",
      "rbin_to_gbin: timbin /Users/kthyng/projects/adcp_processing/processed_data/PS18_15_Thyng/PS18_15_Thyng_ADCP_merged/gbin/wh1200/time/ps2017_310_28800.tim.gbin not available\n",
      "rbin_to_gbin: timbin /Users/kthyng/projects/adcp_processing/processed_data/PS18_15_Thyng/PS18_15_Thyng_ADCP_merged/gbin/wh1200/time/ps2017_310_56772.tim.gbin not available\n",
      "rbin_to_gbin: timbin /Users/kthyng/projects/adcp_processing/processed_data/PS18_15_Thyng/PS18_15_Thyng_ADCP_merged/gbin/wh1200/time/ps2017_310_57600.tim.gbin not available\n",
      "rbin_to_gbin: timbin /Users/kthyng/projects/adcp_processing/processed_data/PS18_15_Thyng/PS18_15_Thyng_ADCP_merged/gbin/wh1200/time/ps2017_309_23598.tim.gbin not available\n",
      "rbin_to_gbin: timbin /Users/kthyng/projects/adcp_processing/processed_data/PS18_15_Thyng/PS18_15_Thyng_ADCP_merged/gbin/wh1200/time/ps2017_309_28800.tim.gbin not available\n",
      "rbin_to_gbin: timbin /Users/kthyng/projects/adcp_processing/processed_data/PS18_15_Thyng/PS18_15_Thyng_ADCP_merged/gbin/wh1200/time/ps2017_309_40842.tim.gbin not available\n",
      "rbin_to_gbin: timbin /Users/kthyng/projects/adcp_processing/processed_data/PS18_15_Thyng/PS18_15_Thyng_ADCP_merged/gbin/wh1200/time/ps2017_309_43200.tim.gbin not available\n",
      "rbin_to_gbin: timbin /Users/kthyng/projects/adcp_processing/processed_data/PS18_15_Thyng/PS18_15_Thyng_ADCP_merged/gbin/wh1200/time/ps2017_309_50400.tim.gbin not available\n",
      "rbin_to_gbin: timbin /Users/kthyng/projects/adcp_processing/processed_data/PS18_15_Thyng/PS18_15_Thyng_ADCP_merged/gbin/wh1200/time/ps2017_309_51446.tim.gbin not available\n",
      "rbin_to_gbin: timbin /Users/kthyng/projects/adcp_processing/processed_data/PS18_15_Thyng/PS18_15_Thyng_ADCP_merged/gbin/wh1200/time/ps2017_310_07200.tim.gbin not available\n",
      "rbin_to_gbin: timbin /Users/kthyng/projects/adcp_processing/processed_data/PS18_15_Thyng/PS18_15_Thyng_ADCP_merged/gbin/wh1200/time/ps2017_310_14400.tim.gbin not available\n",
      "rbin_to_gbin: timbin /Users/kthyng/projects/adcp_processing/processed_data/PS18_15_Thyng/PS18_15_Thyng_ADCP_merged/gbin/wh1200/time/ps2017_310_21600.tim.gbin not available\n",
      "rbin_to_gbin: timbin /Users/kthyng/projects/adcp_processing/processed_data/PS18_15_Thyng/PS18_15_Thyng_ADCP_merged/gbin/wh1200/time/ps2017_310_23612.tim.gbin not available\n",
      "rbin_to_gbin: timbin /Users/kthyng/projects/adcp_processing/processed_data/PS18_15_Thyng/PS18_15_Thyng_ADCP_merged/gbin/wh1200/time/ps2017_310_28800.tim.gbin not available\n",
      "rbin_to_gbin: timbin /Users/kthyng/projects/adcp_processing/processed_data/PS18_15_Thyng/PS18_15_Thyng_ADCP_merged/gbin/wh1200/time/ps2017_310_56772.tim.gbin not available\n",
      "rbin_to_gbin: timbin /Users/kthyng/projects/adcp_processing/processed_data/PS18_15_Thyng/PS18_15_Thyng_ADCP_merged/gbin/wh1200/time/ps2017_310_57600.tim.gbin not available\n",
      "---------------------------------------------\n",
      "step 3: scan files for time range\n",
      "\n",
      "no database found: starting from scratch\n",
      "---------------------------------------------\n",
      "step 4: generate averaged data...\n",
      "... made file load/ping_editparams.txt\n",
      "----------------\n",
      "sonar is wh1200\n",
      "Pingavg.run for time range 309.268672 to 312.043081\n",
      "transducer offset: xducer_dx = 0.000, xducer_dy = 0.000\n",
      "shifted positions applied to *.gpst2 and *.uvship'\n",
      "----------------\n",
      "/Users/kthyng/opt/miniconda3/envs/pycodas/lib/python3.7/site-packages/pycurrents-0.0.0-py3.7-macosx-10.9-x86_64.egg/pycurrents/adcp/pingavg.py:212: UserWarning: Warning: converting a masked element to nan.\n",
      "  Su.N))\n",
      "\n",
      "/Users/kthyng/opt/miniconda3/envs/pycodas/lib/python3.7/site-packages/pycurrents-0.0.0-py3.7-macosx-10.9-x86_64.egg/pycurrents/adcp/pingavg.py:216: UserWarning: Warning: converting a masked element to nan.\n",
      "  self._tuv.write(fmt % (lastdday, usma_mean, vsma_mean))\n",
      "\n",
      "./ens_blk001.cmd  2017/11/06 06:31:53 2017/11/06 06:32:28   309.27214  309.27255\n",
      "./ens_blk002.cmd  2017/11/06 08:27:56 2017/11/06 11:19:50   309.35273  309.47211\n",
      "./ens_blk003.cmd  2017/11/06 14:23:09 2017/11/06 17:08:08   309.59940  309.71399\n",
      "./ens_blk004.cmd  2017/11/06 17:21:04 2017/11/07 01:31:54   309.72296  310.06382\n",
      "./ens_blk005.cmd  2017/11/07 09:38:39 2017/11/07 15:45:41   310.40184  310.65673\n",
      "./ens_blk006.cmd  2017/11/07 16:27:00 2017/11/08 17:21:59   310.68542  311.72360\n",
      "./ens_blk007.cmd  2017/11/08 17:26:59 2017/11/09 01:02:00   311.72707  312.04305\n",
      "batch   312.03958482   312.04305705  91 6  ps2017_312_00000\n",
      "Wrote bin, cmd for 639 ensembles in 7 files.  39 seconds\n",
      "---------------------------------------------\n",
      "step 5: load averaged data (to database)\n",
      "8 block files present\n",
      "database time range:\n",
      "2017/11/06  06:31:53 to 2017/11/09  01:02:00\n",
      "(309.272141 to 312.043056)\n",
      "---------------------------------------------\n",
      "step 6: set up files for codas editing (gautoedit.py)\n",
      "\n",
      "... wrote edit/codas_editparams.txt\n",
      "---------------------------------------------\n",
      "step 7: run setflags?\n",
      "\n",
      "---------------------------------------------\n",
      "step 8: get navigation\n",
      "\n",
      "navigation file nav/a_ps.gps created from load/*.gps2\n",
      "navigation file nav/a_ps.agt created from load/*.gpst2\n",
      "plotted  uvship\n",
      "---------------------------------------------\n",
      "step 9: list heading\n",
      "\n",
      "... headings extracted\n",
      "---------------------------------------------\n",
      "step 10: plot heading correction\n",
      "\n",
      "plots are in cal/rotate/*png\n",
      "\n",
      "-------------------------\n",
      "---- running navsteps ---\n",
      "-------------------------\n",
      "step 11: nav steps: run adcpsect\n",
      "navstep 1\n",
      "... ran adcpsect for navsteps\n",
      "-------------------------\n",
      "step 12: nav steps: run refabs\n",
      "navstep 2\n",
      "... ran refabs for navsteps\n",
      "-------------------------\n",
      "step 13: nav steps: run smoothr for plots\n",
      "navstep 3\n",
      "... ran smoothr\n",
      "-------------------------\n",
      "step 14: nav steps: smooth navigation for velocities\n",
      "navstep 4\n",
      "smoothing method for ship speed: refsm\n",
      "   smoothing window: 3\n",
      "   ship speed source: nav\n",
      "... shipspeed smoothing step done\n",
      "-------------------------\n",
      "step 15: nav steps: put positions and uvship from refsm into codasdb \n",
      "navstep 5\n",
      "... ran put_txy\n",
      "... ran put_tuv\n",
      "... made navigation plot\n",
      "-------------------------\n",
      "step 16: nav steps: make reflayer plots\n",
      "navstep 6\n",
      "... made reflayer plots\n",
      "---------------------------------------------\n",
      "step 11: run calibration steps \n",
      "\n",
      "...bottom track info in check cal/botmtrk\n",
      "... watertrack info in cal/watertrk\n",
      "... check cal/watertrk for estimate\n",
      "---------------------------------------------\n",
      "step 12: extract and plot temperature \n",
      "\n",
      "plotted temperature\n",
      "---------------------------------------------\n",
      "step 13: extract and plot number of pings per ensemble \n",
      "\n",
      "... plotted number of pings per ensemble\n",
      "---------------------------------------------\n",
      "step 14: extract matlab \"allbins\" \n",
      "\n",
      "---------------------------------------------\n",
      "writing \"cruise_info.txt\"\n",
      "\n"
     ]
    }
   ],
   "source": [
    "!quick_adcp.py --cntfile q_py.cnt --auto"
   ]
  },
  {
   "cell_type": "markdown",
   "metadata": {},
   "source": [
    "## Checks"
   ]
  },
  {
   "cell_type": "markdown",
   "metadata": {},
   "source": [
    "### cruise track"
   ]
  },
  {
   "cell_type": "markdown",
   "metadata": {},
   "source": [
    "Here is what the cruise track looks like:"
   ]
  },
  {
   "cell_type": "code",
   "execution_count": 21,
   "metadata": {},
   "outputs": [
    {
     "data": {
      "image/png": "[encoded data removed]",
      "text/plain": [
       "<IPython.core.display.Image object>"
      ]
     },
     "metadata": {
      "image/png": {
       "width": 600
      }
     },
     "output_type": "display_data"
    }
   ],
   "source": [
    "display(Image(os.path.join(procpath, 'nav', 'nav_plot.png'), width=600))"
   ]
  },
  {
   "cell_type": "markdown",
   "metadata": {},
   "source": [
    "### heading\n",
    "\n",
    "Look at figures in `~/cal/rotate/ens_hcorr_*.png` for gaps or red markers indicating problems.\n",
    "\n",
    "This can be done with the following in the terminal window or here to browse the images, but they are also included below.\n",
    "\n",
    "The images indicate that things are NOT looking good."
   ]
  },
  {
   "cell_type": "code",
   "execution_count": 22,
   "metadata": {},
   "outputs": [],
   "source": [
    "path = os.path.join(procpath, 'cal', 'rotate', 'ens_hcorr_*.png')"
   ]
  },
  {
   "cell_type": "code",
   "execution_count": 23,
   "metadata": {},
   "outputs": [
    {
     "data": {
      "image/png": "[encoded data removed]",
      "text/plain": [
       "<IPython.core.display.Image object>"
      ]
     },
     "metadata": {
      "image/png": {
       "width": 600
      }
     },
     "output_type": "display_data"
    }
   ],
   "source": [
    "names = glob(path)\n",
    "[display(Image(name, width=600)) for name in names];"
   ]
  },
  {
   "cell_type": "markdown",
   "metadata": {},
   "source": [
    "## Unrotate\n",
    "\n",
    "We will unrotate the data so that it does not use the gyro (hcorr)."
   ]
  },
  {
   "cell_type": "markdown",
   "metadata": {},
   "source": [
    "Heading issue on Point Sur\n",
    "There appears to be an on-going issue with ADCP data taken on the Point Sur with their heading data. A work-around follows.\n",
    "\n",
    "A. undo automatic heading correction that was already applied by the system\n",
    "B. use bottom tracking to fill in for bad heading correction\n",
    "\n",
    "undo automatic heading correction that was already applied by the system that was based on hcorr\n",
    "These are the steps taken below:\n",
    "\n",
    "1. make a copy of directory for preservation\n",
    "1. unrotate data\n",
    "1. rerun calibration without bad heading correction applied"
   ]
  },
  {
   "cell_type": "markdown",
   "metadata": {},
   "source": [
    "### Directory copy"
   ]
  },
  {
   "cell_type": "code",
   "execution_count": 24,
   "metadata": {},
   "outputs": [],
   "source": [
    "# 1.\n",
    "procpath_unrotated = os.path.join(procpathroot, device + '.unrotated')\n",
    "!cp -r $procpath $procpath_unrotated\n",
    "\n",
    "dbpath = os.path.join(procpath_unrotated, 'adcpdb', 'a_ps')\n"
   ]
  },
  {
   "cell_type": "markdown",
   "metadata": {},
   "source": [
    "### Unrotate Data"
   ]
  },
  {
   "cell_type": "code",
   "execution_count": 25,
   "metadata": {},
   "outputs": [],
   "source": [
    "# Giving database location relative to this notebook\n",
    "text = ' DB_NAME:       ' + dbpath + '\\n'\n",
    "text +=''' LOG_FILE:      rotate.log\n",
    "           TIME_RANGE:    all\n",
    "\n",
    "           OPTION_LIST:\n",
    "              water_and_bottom_track:\n",
    "                year_base=          2017\n",
    "                unrotate!\n",
    "                amplitude=          1.0\n",
    "                angle_0=            0.0\n",
    "                end\n",
    "              end\n",
    "'''\n",
    "\n",
    "# create helper file to unrotate data\n",
    "f = open(os.path.join(procpath_unrotated, 'cal', 'rotate', 'unrotate.tmp'), 'w')\n",
    "f.write(text)\n",
    "f.close()"
   ]
  },
  {
   "cell_type": "code",
   "execution_count": 26,
   "metadata": {},
   "outputs": [
    {
     "name": "stdout",
     "output_type": "stream",
     "text": [
      "INFO: database /Users/kthyng/projects/adcp_processing/processed_data/PS18_15_Thyng/postproc/wh1200.unrotated/adcpdb/a_ps opened\n",
      "\n",
      "--------\n",
      " Pass 1: Checking control file...\n",
      "--------\n",
      "INFO: DBMOVE search beyond end\n",
      "% OPTIONS:\n",
      "% =======\n",
      "% water_and_bottom_track:% OPTIONS:\n",
      "% =======\n",
      "% year_base= 2017\n",
      "% unrotate!\n",
      "% amplitude= 1.000000\n",
      "% angle_0= 0.000000\n",
      "% =======\n",
      "\n",
      "% =======\n",
      "\n",
      "--------\n",
      " Pass 2: Updating database...\n",
      "--------\n",
      "% OPTIONS:\n",
      "% =======\n",
      "% water_and_bottom_track:% OPTIONS:\n",
      "% =======\n",
      "% year_base= 2017\n",
      "% unrotate!\n",
      "% amplitude= 1.000000\n",
      "% angle_0= 0.000000\n",
      "% =======\n",
      "\n",
      "% =======\n",
      "\n",
      " Processing range:  2017/11/06 06:31:00 to 2017/11/09 01:02:00\n",
      "\n",
      " END OF DATABASE\n",
      "\n",
      "INFO: database closed\n",
      "\n",
      "\n"
     ]
    }
   ],
   "source": [
    "# 2.\n",
    "path = os.path.join(procpath_unrotated, 'cal', 'rotate', 'unrotate.tmp')\n",
    "!rotate $path  # unrotate\n"
   ]
  },
  {
   "cell_type": "markdown",
   "metadata": {},
   "source": [
    "### Rerun calibration"
   ]
  },
  {
   "cell_type": "code",
   "execution_count": 27,
   "metadata": {},
   "outputs": [
    {
     "name": "stdout",
     "output_type": "stream",
     "text": [
      "/Users/kthyng/projects/adcp_processing/processed_data/PS18_15_Thyng/postproc/wh1200.unrotated\n",
      "found dbinfo.txt: use values if otherwise unspecified\n",
      "fix file is a_ps.gps\n",
      "reflayer: ref_method = refsm\n",
      "reflayer: refuv_source = nav\n",
      "reflayer: refuv_smoothwin = 3\n",
      "found steps2rerun: navsteps:calib\n",
      "=====================================================\n",
      "===========  new run: steps2rerun====================\n",
      "=====================================================\n",
      "command line was: /Users/kthyng/opt/miniconda3/envs/pycodas/bin/quick_adcp.py --steps2rerun navsteps:calib --auto\n",
      "cwd is /Users/kthyng/projects/adcp_processing/processed_data/PS18_15_Thyng/postproc/wh1200.unrotated\n",
      "about to run these steps:\n",
      " - navsteps\n",
      " - calib\n",
      " - adcpsect\n",
      " - refabs\n",
      " - smoothnav\n",
      " - putnav\n",
      " - refplots\n",
      " - codaseditsetup\n",
      "database time range:\n",
      "2017/11/06  06:31:53 to 2017/11/09  01:02:00\n",
      "(309.272141 to 312.043056)\n",
      "---------------------------------------------\n",
      "step 1: set up files for codas editing (gautoedit.py)\n",
      "\n",
      "---------------------------------------------\n",
      "step 2: run all navsteps \n",
      "\n",
      "\n",
      "-------------------------\n",
      "---- running navsteps ---\n",
      "-------------------------\n",
      "step 3: adjust GPS sensor location\n",
      "navstep 1\n",
      "-------------------------\n",
      "step 4: nav steps: run adcpsect\n",
      "navstep 2\n",
      "... ran adcpsect for navsteps\n",
      "-------------------------\n",
      "step 5: nav steps: run refabs\n",
      "navstep 3\n",
      "... ran refabs for navsteps\n",
      "-------------------------\n",
      "step 6: nav steps: run smoothr for plots\n",
      "navstep 4\n",
      "... ran smoothr\n",
      "-------------------------\n",
      "step 7: nav steps: smooth navigation for velocities\n",
      "navstep 5\n",
      "smoothing method for ship speed: refsm\n",
      "   smoothing window: 3\n",
      "   ship speed source: nav\n",
      "... shipspeed smoothing step done\n",
      "-------------------------\n",
      "step 8: nav steps: put positions and uvship from refsm into codasdb \n",
      "navstep 6\n",
      "... ran put_txy\n",
      "... ran put_tuv\n",
      "... made navigation plot\n",
      "-------------------------\n",
      "step 9: nav steps: make reflayer plots\n",
      "navstep 7\n",
      "... made reflayer plots\n",
      "---------------------------------------------\n",
      "step 3: run calibration steps \n",
      "\n",
      "...bottom track info in check cal/botmtrk\n",
      "... watertrack info in cal/watertrk\n",
      "... check cal/watertrk for estimate\n",
      "/Users/kthyng/projects/adcp_processing/processed_data/PS18_15_Thyng/postproc/wh1200\n"
     ]
    }
   ],
   "source": [
    "# 3.\n",
    "%cd $procpath_unrotated\n",
    "!quick_adcp.py --steps2rerun navsteps:calib --auto  # redo calibration without rotation\n",
    "%cd -"
   ]
  },
  {
   "cell_type": "markdown",
   "metadata": {},
   "source": [
    "### Check new calibration"
   ]
  },
  {
   "cell_type": "markdown",
   "metadata": {},
   "source": [
    "#### Bottom track"
   ]
  },
  {
   "cell_type": "code",
   "execution_count": 28,
   "metadata": {},
   "outputs": [
    {
     "name": "stdout",
     "output_type": "stream",
     "text": [
      "Automatically rotated, original case:\n",
      "\n",
      "edited:   182 points, 2.0 min speed, 2.5 max dev\n",
      "            median     mean      std\n",
      "amplitude   0.9981   0.9980   0.0027\n",
      "phase      -1.1607  -1.0365   0.5501\n",
      "\n",
      "\n",
      "\n",
      "New unrotated case:\n",
      "\n",
      "edited:   180 points, 2.0 min speed, 2.5 max dev\n",
      "            median     mean      std\n",
      "amplitude   0.9981   0.9980   0.0026\n",
      "phase       1.1058   1.0492   0.4249\n",
      "\n"
     ]
    }
   ],
   "source": [
    "# look at bottom track calibration for phase correction\n",
    "print('Automatically rotated, original case:\\n')\n",
    "path = os.path.join(procpath, 'cal', 'botmtrk', 'btcaluv.out')\n",
    "!tail -5 $path  \n",
    "\n",
    "print('\\n\\nNew unrotated case:\\n')\n",
    "path = os.path.join(procpath_unrotated, 'cal', 'botmtrk', 'btcaluv.out')\n",
    "!tail -5 $path"
   ]
  },
  {
   "cell_type": "markdown",
   "metadata": {},
   "source": [
    "#### Water track"
   ]
  },
  {
   "cell_type": "code",
   "execution_count": 29,
   "metadata": {},
   "outputs": [
    {
     "name": "stdout",
     "output_type": "stream",
     "text": [
      "Automatically rotated, original case:\n",
      "\n",
      " ADCP watertrack calibration\n",
      "##\n",
      " Time range 311.15 to 311.78\n",
      "   Calculation done at Wed Jan 27 21:57:21 2021\n",
      "   delta-u min = -100.00, max = 100.00\n",
      "   delta-v min = -100.00, max = 100.00\n",
      "   clip_amp = 0.04,  clip_ph =  3.0\n",
      "   clip_dt =   60,  clip_var = 0.050\n",
      "Number of edited points:   2 out of   4\n",
      "   amp   = 0.9790  + 0.1307 (t - 311.2)\n",
      "   phase =  -0.83  + 11.4706 (t - 311.2)\n",
      "            median     mean      std\n",
      "amplitude   0.9790   0.9790   0.0141\n",
      "phase      -0.8305  -0.8305   1.2410\n",
      "nav - pc   -5.5000  -5.5000  13.4350\n",
      "var         0.0050   0.0050   0.0057\n",
      "min var     0.0045   0.0045   0.0049\n",
      "delta-u     2.0650   2.0650   0.3323\n",
      "delta-v     0.1900   0.1900   1.6971\n",
      "\n",
      "\n",
      "\n",
      "New unrotated case:\n",
      "\n",
      " ADCP watertrack calibration\n",
      "##\n",
      " Time range 311.15 to 311.78\n",
      "   Calculation done at Wed Jan 27 22:00:25 2021\n",
      "   delta-u min = -100.00, max = 100.00\n",
      "   delta-v min = -100.00, max = 100.00\n",
      "   clip_amp = 0.04,  clip_ph =  3.0\n",
      "   clip_dt =   60,  clip_var = 0.050\n",
      "Number of edited points:   3 out of   5\n",
      "   amp   = 0.9857  + 0.1495 (t - 311.3)\n",
      "   phase =   1.43  + 9.5108 (t - 311.3)\n",
      "            median     mean      std\n",
      "amplitude   0.9910   0.9857   0.0147\n",
      "phase       1.4880   1.4297   1.1666\n",
      "nav - pc    1.0000   0.0000   6.5574\n",
      "var         0.0030   0.0040   0.0036\n",
      "min var     0.0030   0.0037   0.0031\n",
      "delta-u     1.8300   1.1467   1.6079\n",
      "delta-v     1.3900   0.9067   1.7265\n",
      "\n"
     ]
    }
   ],
   "source": [
    "# look at water track calibration for comparison\n",
    "print('Automatically rotated, original case:\\n')\n",
    "path = os.path.join(procpath, 'cal', 'watertrk', 'adcpcal.out')\n",
    "!tail -20 $path  \n",
    "\n",
    "print('\\n\\nNew unrotated case:\\n')\n",
    "path = os.path.join(procpath_unrotated, 'cal', 'watertrk', 'adcpcal.out')\n",
    "!tail -20 $path"
   ]
  },
  {
   "cell_type": "markdown",
   "metadata": {},
   "source": [
    "### new calibration pics"
   ]
  },
  {
   "cell_type": "code",
   "execution_count": 30,
   "metadata": {},
   "outputs": [
    {
     "data": {
      "image/png": "[encoded data removed]",
      "text/plain": [
       "<IPython.core.display.Image object>"
      ]
     },
     "metadata": {
      "image/png": {
       "width": 600
      }
     },
     "output_type": "display_data"
    }
   ],
   "source": [
    "# Look at this phase correction\n",
    "name = os.path.join(procpath_unrotated, 'cal', 'botmtrk', 'btcal.png')\n",
    "display(Image(name, width=600));"
   ]
  },
  {
   "cell_type": "markdown",
   "metadata": {},
   "source": [
    "## Fix heading\n",
    "\n"
   ]
  },
  {
   "cell_type": "code",
   "execution_count": 31,
   "metadata": {},
   "outputs": [],
   "source": [
    "# path = os.path.join(procpath_unrotated, 'cal', 'botmtrk')\n",
    "\n",
    "# %cd $path"
   ]
  },
  {
   "cell_type": "code",
   "execution_count": 32,
   "metadata": {},
   "outputs": [],
   "source": [
    "\n",
    "# #!/usr/bin/env python\n",
    "\n",
    "# ## written by quick_mplplots.py -- edit as needed:\n",
    "\n",
    "# ## cruiseid      is 'ADCP'\n",
    "# ## dbname        is 'a_ps'\n",
    "# ## proc_yearbase is 2017\n",
    "# ## printformats   is 'png'\n",
    "\n",
    "# import matplotlib.pyplot as plt\n",
    "\n",
    "\n",
    "\n",
    "\n",
    "\n",
    "# from pycurrents.adcp.quick_mpl import Btplot\n",
    "\n",
    "# ## other parameters that can be chosen:\n",
    "# ##   name            default\n",
    "# ##   ------        --------------\n",
    "# ##   dbname           (found in ../../adcpdb)\n",
    "# ##   titlestr         (uses ADCP\n",
    "# ##   proc_yearbase    (first year in database)\n",
    "# ##   load_only                  False   # no output\n",
    "# ##   printformats               'pdf'\n",
    "# ##   dpi                        100\n",
    "# ##   outfilebase               'btcal'\n",
    "# ##   ddrange                    'all'\n",
    "# ##   step                       1\n",
    "# ##   min_speed                  2\n",
    "# ##   max_sig                    2.5\n",
    "# ##   max_gap                    0.1\n",
    "# ##   tol_dt                     0.02\n",
    "# ##   min_depth                  25                #shallower for high freq\n",
    "# ##   max_depth                  1500\n",
    "# ##\n",
    "\n",
    "# BT = Btplot()\n",
    "# BT(btm_filename='a_ps.btm',\n",
    "#    ref_filename='a_ps.ref',\n",
    "#    cruiseid = 'ADCP',\n",
    "#    max_depth = 300,\n",
    "#    printformats = 'png',\n",
    "#    min_speed      =            0.2,\n",
    "#    max_sig        =            2.5,\n",
    "#    max_gap        =            0.1,\n",
    "#    tol_dt         =            0.02,\n",
    "#    min_depth      =            4,\n",
    "#    proc_yearbase='2017')\n"
   ]
  },
  {
   "cell_type": "code",
   "execution_count": 67,
   "metadata": {},
   "outputs": [
    {
     "data": {
      "text/plain": [
       "Text(0.5, 1.0, 'bottom track phase vs gyro heading')"
      ]
     },
     "execution_count": 67,
     "metadata": {},
     "output_type": "execute_result"
    },
    {
     "data": {
      "image/png": "[encoded data removed]",
      "text/plain": [
       "<Figure size 432x288 with 1 Axes>"
      ]
     },
     "metadata": {
      "needs_background": "light"
     },
     "output_type": "display_data"
    }
   ],
   "source": [
    "# from pycurrents.hints import *\n",
    "\n",
    "# ph_=interp1(BT.dayuv, BT.ph_ma, BT.day_bt)\n",
    "\n",
    "# islow=BT.speed_bt<1.5\n",
    "# plt.plot(BT.heading_bt[islow],ph_[islow],'k.', ms=2)\n",
    "# plt.plot(360+BT.heading_bt[islow],ph_[islow],'k.', ms=2)\n",
    "\n",
    "# imed=(BT.speed_bt>=1.5) & (BT.speed_bt<=3)\n",
    "\n",
    "# plt.plot(BT.heading_bt[imed],ph_[imed],'g.', ms=5)\n",
    "# plt.plot(360+BT.heading_bt[imed],ph_[imed],'g.', ms=5)\n",
    "\n",
    "# ifast=BT.speed_bt>=3\n",
    "# plt.plot(BT.heading_bt[ifast],ph_[ifast],'r.', ms=7)\n",
    "# plt.plot(360+BT.heading_bt[ifast],ph_[ifast],'r.', ms=7)\n",
    "\n",
    "# ax=plt.gca()\n",
    "# ax.set_xlabel('bottom track heading')\n",
    "# ax.set_ylabel('phase correction')\n",
    "# ax.set_title('bottom track phase vs gyro heading')\n"
   ]
  },
  {
   "cell_type": "code",
   "execution_count": null,
   "metadata": {},
   "outputs": [],
   "source": [
    "# TRY HERE AND SEE HOW THEY WORK"
   ]
  },
  {
   "cell_type": "code",
   "execution_count": 179,
   "metadata": {
    "collapsed": true,
    "jupyter": {
     "outputs_hidden": true
    }
   },
   "outputs": [
    {
     "data": {
      "text/plain": [
       "(array([309.317269, 309.320752, 309.324213, 309.327697, 309.331157,\n",
       "        309.334641, 309.338102, 309.341586, 309.37978 , 309.383252,\n",
       "        309.386725, 309.404086, 309.407558, 309.41103 , 309.414502,\n",
       "        309.417975, 309.428391, 309.431863, 309.44228 , 309.480475,\n",
       "        309.483947, 309.487419, 309.490891, 309.494363, 309.497836,\n",
       "        309.501308, 309.50478 , 309.508252, 309.511725, 309.515197,\n",
       "        309.518669, 309.522141, 309.525613, 309.553391, 309.556852,\n",
       "        309.560336, 309.563796, 309.56728 , 309.570741, 309.574225,\n",
       "        309.577685, 309.581169, 309.58463 , 309.588113, 309.591574,\n",
       "        309.612419, 309.629769, 309.633252, 309.647141, 309.650602,\n",
       "        309.654086, 309.657569, 309.678403, 309.681863, 309.685347,\n",
       "        309.688808, 309.692292, 309.699236, 309.702697, 309.757697,\n",
       "        309.761181, 309.764641, 309.792419, 309.795903, 309.806308,\n",
       "        309.809792, 309.813252, 309.837558, 309.844502, 309.847975,\n",
       "        309.851447, 309.868808, 309.87228 , 309.875752, 309.879225,\n",
       "        309.896586, 309.900058, 309.90353 , 309.907002, 309.920891,\n",
       "        309.924352, 309.938241, 309.941725, 309.945185, 309.948669,\n",
       "        309.969502, 309.986852, 309.990336, 309.993796, 310.011169,\n",
       "        310.01463 , 310.018113, 310.021574, 310.025058, 310.028519,\n",
       "        310.032002, 310.052836, 310.056296, 310.05978 , 310.063241,\n",
       "        310.063819, 310.089039, 310.092523, 310.095984, 310.099468,\n",
       "        310.102928, 310.1064  , 310.109873, 310.113345, 310.144769,\n",
       "        310.148252, 310.151713, 310.155197, 310.158657, 310.169086,\n",
       "        310.172546, 310.17603 , 310.179491, 310.182975, 310.19338 ,\n",
       "        310.196863, 310.200324, 310.203808, 310.207269, 310.224641,\n",
       "        310.228102, 310.231586, 310.245475, 310.248935, 310.252419,\n",
       "        310.25588 , 310.266308, 310.269769, 310.272755, 310.276725,\n",
       "        310.280185, 310.294074, 310.297546, 310.301019, 310.304491,\n",
       "        310.307963, 310.31838 , 310.321852, 310.325324, 310.328796,\n",
       "        310.342685, 310.346157, 310.34963 , 310.353102, 310.356574,\n",
       "        310.370463, 310.373935, 310.377396, 310.38088 , 310.415729,\n",
       "        310.419213, 310.422674, 310.426157, 310.429618, 310.481701,\n",
       "        310.485174, 310.49559 , 310.499062, 310.516424, 310.519896,\n",
       "        310.537257, 310.554606, 310.571979, 310.585868, 310.589329,\n",
       "        310.592812, 310.596273, 310.599757, 310.603218, 310.606701,\n",
       "        310.610162, 310.613646, 310.617106, 310.62059 , 310.624051,\n",
       "        310.627535, 310.641424, 310.644884, 310.648368, 310.651829,\n",
       "        310.662245, 310.665729, 310.66919 , 310.672674, 310.676134,\n",
       "        310.679618, 310.700451, 310.703912, 310.717801, 310.721285,\n",
       "        310.724745, 310.735174, 310.738634, 310.742118, 310.752523,\n",
       "        310.756007, 310.759468, 310.77684 , 310.780301, 310.783785,\n",
       "        310.787245, 310.790729, 310.79419 , 310.797674, 310.801157,\n",
       "        310.804618, 310.808102, 310.828935, 310.832396, 310.846285,\n",
       "        310.849769, 310.863646, 310.867118, 310.884479, 310.887951,\n",
       "        310.891424, 310.908785, 310.912257, 310.926146, 310.929618,\n",
       "        310.93309 , 310.946979, 310.950451, 310.971273, 310.974757,\n",
       "        310.978218, 310.988646, 310.992106, 310.99559 , 311.009479,\n",
       "        311.01294 , 311.016424, 311.030312, 311.033773, 311.037257,\n",
       "        311.040718, 311.044201, 311.047662, 311.051146, 311.054606,\n",
       "        311.05809 , 311.061551, 311.065035, 311.078924, 311.082384,\n",
       "        311.085868, 311.089329, 311.092812, 311.096273, 311.099757,\n",
       "        311.103218, 311.106701, 311.117106, 311.12059 , 311.124051,\n",
       "        311.127535, 311.130995, 311.134479, 311.13794 , 311.141424,\n",
       "        311.144884, 311.155312, 311.158773, 311.162257, 311.165718,\n",
       "        311.169201, 311.172685, 311.176146, 311.17963 , 311.193519,\n",
       "        311.196979, 311.200463, 311.203924, 311.207407, 311.210868,\n",
       "        311.214352, 311.217812, 311.235174, 311.238646, 311.242118,\n",
       "        311.24559 , 311.249062, 311.252535, 311.256007, 311.259479,\n",
       "        311.273368, 311.27684 , 311.280312, 311.283785, 311.287257,\n",
       "        311.290729, 311.294201, 311.297674, 311.30809 , 311.311562,\n",
       "        311.315035, 311.318507, 311.321979, 311.325451, 311.328912,\n",
       "        311.342801, 311.346285, 311.349745, 311.353229, 311.35669 ,\n",
       "        311.360174, 311.363634, 311.377523, 311.381007, 311.384468,\n",
       "        311.387951, 311.391412, 311.394896, 311.398356, 311.40184 ,\n",
       "        311.405301, 311.41919 , 311.422674, 311.426134, 311.429618,\n",
       "        311.433079, 311.436562, 311.440023, 311.453912, 311.457396,\n",
       "        311.460856, 311.46434 , 311.467801, 311.471285, 311.474745,\n",
       "        311.478229, 311.492118, 311.495579, 311.499062, 311.502523,\n",
       "        311.506007, 311.509468, 311.512951, 311.516412, 311.530301,\n",
       "        311.533785, 311.537269, 311.540729, 311.544213, 311.558102,\n",
       "        311.561562, 311.565046, 311.568507, 311.571991, 311.575451,\n",
       "        311.603229, 311.617118, 311.62059 , 311.624062, 311.648368,\n",
       "        311.686562, 311.707384, 311.738646, 311.742106, 311.74559 ,\n",
       "        311.749051, 311.752535, 311.755995, 311.759479, 311.76294 ,\n",
       "        311.766424, 311.769884, 311.780312, 311.783773, 311.787257,\n",
       "        311.790718, 311.804606, 311.815035, 311.839329, 311.849757,\n",
       "        311.860162, 311.874051, 311.884479, 311.894884, 311.908796,\n",
       "        311.912257, 311.922685, 311.926146, 311.92963 , 311.943519,\n",
       "        311.946979, 311.957407, 311.960868, 311.96434 , 311.967812,\n",
       "        311.978229, 311.981701, 311.985174, 311.988646, 311.992118,\n",
       "        311.99559 , 311.999062, 312.002535, 312.006007, 312.009479,\n",
       "        312.012951, 312.019896, 312.033785, 312.037257, 312.040729]),\n",
       " masked_array(data=[0.33202895029002566, 0.5149616766600782,\n",
       "                    0.4054427347036253, 0.41472493579003633,\n",
       "                    0.5777275986458966, 0.7174718944524738,\n",
       "                    0.7977315863069406, --, -0.04742474459251525,\n",
       "                    0.3586627271661529, --, 0.4056770000437863,\n",
       "                    0.4446924120345983, 0.5637174877685012,\n",
       "                    0.6225905042942295, -0.4395872382107946, --, --, --,\n",
       "                    -0.40141155212827456, -0.8758828472952445,\n",
       "                    -0.9230896239688349, -0.9803179030529918,\n",
       "                    -1.114347639423659, -1.0694734094294858,\n",
       "                    -1.006406021265576, -1.0053218674108575,\n",
       "                    -0.7508450056451753, -0.3952217752781241,\n",
       "                    -0.36324866233194086, -0.6911828699943925,\n",
       "                    -1.0831816911044285, --, --, 0.8003306213902813,\n",
       "                    0.39409682840057086, 0.15375957823803682,\n",
       "                    0.3978996413221454, 0.5518693416961976,\n",
       "                    0.5245822797389605, 0.5436346326183026,\n",
       "                    0.5460321700718317, 0.4871581820878541, --, --,\n",
       "                    -0.7009932072393581, -1.0857661035700494, --,\n",
       "                    -0.7752499965038754, -0.8556010822577066,\n",
       "                    -0.9725942875943835, --, -0.3892556550166029,\n",
       "                    -0.40013740139024634, -0.4308220760712953,\n",
       "                    -0.4671207359731218, 0.40787536427770243,\n",
       "                    -0.26942481747925684, --, -0.06923072501440725,\n",
       "                    -0.6114116660161734, --, --, --, 0.3079624312919587,\n",
       "                    0.396512433487765, 0.26532685835463937,\n",
       "                    -0.11100951271632198, 0.007586655696382616,\n",
       "                    -0.07096001450655891, --, -0.987762875438321,\n",
       "                    -0.8426857395913032, --, --, -0.3155886786433637,\n",
       "                    -0.27793722088794937, --, --, -0.03928671837250766, --,\n",
       "                    -0.7144674977077413, -0.9676032418286241,\n",
       "                    -1.085355029997231, --, --, -0.40172632671900754,\n",
       "                    -0.5640843507946688, --, -0.822244561615598,\n",
       "                    -0.7348449450888652, -0.6902730716643108,\n",
       "                    -0.6770230625672871, -0.721547829117025,\n",
       "                    -0.7821912547034028, --, -0.426054225443432,\n",
       "                    -0.4685112587962281, -0.5390381152845816, --, --, --,\n",
       "                    --, 0.34281753009166, 0.29903931539639195,\n",
       "                    0.3044551329285824, 0.1990978025772056,\n",
       "                    0.2235542950010714, --, --, --, -0.052191274880100065,\n",
       "                    -0.17425262767425914, -0.4282078263793234,\n",
       "                    -0.3694629258613563, -0.2778483180917856,\n",
       "                    -0.20656385056507817, --, --, -0.16487681920780323,\n",
       "                    -0.1625609022311127, -0.13277290603914355,\n",
       "                    -0.15170499506085283, 0.6325652809094223,\n",
       "                    0.42413320920721387, 0.40581886362912367, --,\n",
       "                    0.7419545210239636, 0.49452084860837126, --, --,\n",
       "                    0.6703093044021443, --, --, --, --,\n",
       "                    0.24188794358729865, 0.03226975284269989,\n",
       "                    0.07205966244590259, -0.18887100106131527,\n",
       "                    -0.16177996713533083, 0.3845974103153932,\n",
       "                    0.15659494652012995, 0.10726546176797654, --,\n",
       "                    -0.5937913108040362, -0.5537719845586623,\n",
       "                    -0.6173552061023503, -0.8498816865132852, --,\n",
       "                    -1.1209672153188388, -0.9245509433511624,\n",
       "                    -1.206096911203913, -0.34402767457253347,\n",
       "                    -0.3837522880297611, -0.400406842262927,\n",
       "                    -0.6110090743221583, -0.6845910600594441, --,\n",
       "                    -0.6101082987296425, --, -0.7668094876149354, --,\n",
       "                    -0.8197631893348977, --, -0.9380825630852172,\n",
       "                    -1.0773634757281765, --, 0.09038926771652066,\n",
       "                    -0.01703625378961112, -0.11970043819941986,\n",
       "                    -0.04106109859344126, -0.28261990458450686,\n",
       "                    -0.601671603791422, -0.47432420937703423,\n",
       "                    -0.37111689794800057, -0.37823616410217686,\n",
       "                    -0.4351325798267469, -0.5025845014130739,\n",
       "                    -0.6296701098403658, --, 0.030942151694029058,\n",
       "                    0.20117670674734217, 0.1969187921875062,\n",
       "                    -0.7409013688430813, 0.7718457800455036,\n",
       "                    0.704385091962668, 0.749888566831004,\n",
       "                    0.7030462393517739, 0.6732146389233641, --,\n",
       "                    0.02386691515636439, --, 0.075111158827292,\n",
       "                    0.21844177439907714, -0.24513883214051113,\n",
       "                    0.08946691386012312, 0.2364226348502664, --,\n",
       "                    0.04389223939067413, 0.09710839089866852,\n",
       "                    0.04870751091386234, -0.2403502852747253,\n",
       "                    -0.5717589727074674, -0.5936273804927813,\n",
       "                    -0.6883078821563022, -0.8498041679696096,\n",
       "                    -0.8558851492973258, -0.7270284380689135,\n",
       "                    -0.6214540987432396, -0.4898075948989263,\n",
       "                    -0.6305638195105487, 0.2681695294146622,\n",
       "                    -0.11445028608359142, 0.028643835174403248,\n",
       "                    -1.0176861875935048, -0.050472096539394884, --,\n",
       "                    0.14816516650030565, 0.11063895470680538,\n",
       "                    -0.22218066392777563, 0.07731611048863812,\n",
       "                    0.6448602491252444, 0.0644091624032957,\n",
       "                    0.17822447945918896, --, -0.03414016484262561,\n",
       "                    -0.180589545265417, 0.10542637694747714,\n",
       "                    0.1183901512329123, --, 0.15987206937776746,\n",
       "                    0.030479066923843647, --, 0.05191375825624488,\n",
       "                    0.0895087885866548, --, --, -0.8708103137300748,\n",
       "                    -0.9651282305124507, -0.974554422199512,\n",
       "                    -0.9743617030230527, -0.9852047505517136,\n",
       "                    -0.9354746991830162, -0.9192068484101853,\n",
       "                    -0.8912564662169922, -0.8336765523363722, --,\n",
       "                    0.3547732580242743, -0.24667616695824102,\n",
       "                    -0.2995922453998194, -0.4690650934480118,\n",
       "                    -0.6079370891748493, -0.624315860621893,\n",
       "                    -0.7532035311665759, --, --, -0.6586217207404635,\n",
       "                    -0.7648537141868834, -0.7004840602111587,\n",
       "                    -0.7081177019985753, -0.7455067924023799,\n",
       "                    -0.7186328193233472, -0.7382644369363066,\n",
       "                    -1.0875016171302665, --, 0.1944675139575681,\n",
       "                    0.3095401218209133, 0.3624993463110056,\n",
       "                    0.40155133511532637, 0.4916939727770885,\n",
       "                    0.5042664856876654, 0.49275876481651276,\n",
       "                    1.178688043366181, 0.08169812978606011,\n",
       "                    0.12206817640070189, 0.10894221660750077,\n",
       "                    0.1298108421750025, 0.24501922670278858,\n",
       "                    0.24181257350016708, 0.27277869114319436,\n",
       "                    0.9449842331764025, 0.12051933921217191,\n",
       "                    0.18043423109451198, 0.24159170885678805,\n",
       "                    0.26801243720930756, 0.2457182144379923,\n",
       "                    0.26766985585040376, 0.33843335908160554,\n",
       "                    0.3419095241630714, -0.03234796940854778,\n",
       "                    0.08221668184349085, 0.16357220995046332,\n",
       "                    0.27322061880170034, 0.2840822270335366,\n",
       "                    0.22565815132074363, --, --, 0.3271743260440729,\n",
       "                    0.24751244893739863, 0.22294505785524082,\n",
       "                    0.3159042570656396, 0.47717819014080476,\n",
       "                    0.33060221723179106, 0.06688196836296545,\n",
       "                    0.04068496604347788, -0.11415996590770489,\n",
       "                    -0.15250544906718416, -0.14527242980127125,\n",
       "                    -0.11324626173635269, -0.05043579522236732,\n",
       "                    -1.0170135807792315, 0.0661055009613117,\n",
       "                    -0.03022423991116782, -0.1355355034980359,\n",
       "                    -0.049856917046501414, -0.050961255879432746,\n",
       "                    -0.011130388777028918, 0.040529114280543434,\n",
       "                    0.03746343497735101, 0.17636268422577372,\n",
       "                    -0.024066341353685322, 0.03192840744129069,\n",
       "                    0.040915881528718154, 0.15387977450556406,\n",
       "                    0.15101812201213816, 0.10250416470257029,\n",
       "                    0.00500016988170407, -0.15111947607859133,\n",
       "                    -0.304765771588145, -0.31361163196520564,\n",
       "                    -0.3149312959413719, -0.3222718266436247,\n",
       "                    -0.18082908040570383, -0.0884712396926709,\n",
       "                    0.12409153589182179, -0.10026374330147583,\n",
       "                    -0.18868187582149412, -0.2916165613924508,\n",
       "                    -0.25235517358967263, -0.34648698529659744,\n",
       "                    -0.4522755230634516, -0.39110023695190693,\n",
       "                    -0.3012846555702595, -0.7329393858006661,\n",
       "                    -0.6229570458344824, -0.6264811076069482,\n",
       "                    -0.6178055036893436, -0.7046602938895545,\n",
       "                    -0.12978235101420474, -0.1343576738412603,\n",
       "                    -0.22940621756780957, -0.025802443537243952,\n",
       "                    -0.0328267459021247, -0.6026105297765464,\n",
       "                    -0.6851677353593004, -0.191268825527942,\n",
       "                    -0.11228007629345882, -0.05718994321695524,\n",
       "                    -0.14204473864310785, 0.16390868437116685,\n",
       "                    -0.06912399485210918, -0.6069463855221653,\n",
       "                    -0.6451463528009522, -0.7259017020207846,\n",
       "                    -0.7795434604029807, -0.3087897219026956,\n",
       "                    0.2971432477263132, 0.2979399900839625,\n",
       "                    0.20823517766480393, 0.48109456467511447,\n",
       "                    0.370623597065053, -0.6487263228027789,\n",
       "                    -0.4311637481427834, -0.16284748743014238,\n",
       "                    -0.3180458800784673, -1.229879085406441, --,\n",
       "                    -0.362306191601591, -0.25587581986535934,\n",
       "                    -0.4291988495130137, -1.1482255528663021,\n",
       "                    -1.252611642158821, -0.4300042972859559,\n",
       "                    -0.3427442666041244, -0.5143151212654533,\n",
       "                    0.5376687120004852, 0.3495734042483285, --,\n",
       "                    0.33344147609025876, -0.8183115614084888,\n",
       "                    -0.05037144693771453, -0.12028381024151018,\n",
       "                    -0.0977935766213136, 0.028749782137712752,\n",
       "                    0.01799238840918349, 0.15708770176302467,\n",
       "                    0.20546041660115447, -0.00462646326043252,\n",
       "                    -0.063359891155784, 0.02287087241715824,\n",
       "                    0.04207262951754705, -0.08429898252685232,\n",
       "                    -0.3646374774723, -0.2479989674180132,\n",
       "                    -0.03838836300503784, --, -0.8854900522613183, --, --],\n",
       "              mask=[False, False, False, False, False, False, False,  True,\n",
       "                    False, False,  True, False, False, False, False, False,\n",
       "                     True,  True,  True, False, False, False, False, False,\n",
       "                    False, False, False, False, False, False, False, False,\n",
       "                     True,  True, False, False, False, False, False, False,\n",
       "                    False, False, False,  True,  True, False, False,  True,\n",
       "                    False, False, False,  True, False, False, False, False,\n",
       "                    False, False,  True, False, False,  True,  True,  True,\n",
       "                    False, False, False, False, False, False,  True, False,\n",
       "                    False,  True,  True, False, False,  True,  True, False,\n",
       "                     True, False, False, False,  True,  True, False, False,\n",
       "                     True, False, False, False, False, False, False,  True,\n",
       "                    False, False, False,  True,  True,  True,  True, False,\n",
       "                    False, False, False, False,  True,  True,  True, False,\n",
       "                    False, False, False, False, False,  True,  True, False,\n",
       "                    False, False, False, False, False, False,  True, False,\n",
       "                    False,  True,  True, False,  True,  True,  True,  True,\n",
       "                    False, False, False, False, False, False, False, False,\n",
       "                     True, False, False, False, False,  True, False, False,\n",
       "                    False, False, False, False, False, False,  True, False,\n",
       "                     True, False,  True, False,  True, False, False,  True,\n",
       "                    False, False, False, False, False, False, False, False,\n",
       "                    False, False, False, False,  True, False, False, False,\n",
       "                    False, False, False, False, False, False,  True, False,\n",
       "                     True, False, False, False, False, False,  True, False,\n",
       "                    False, False, False, False, False, False, False, False,\n",
       "                    False, False, False, False, False, False, False, False,\n",
       "                    False,  True, False, False, False, False, False, False,\n",
       "                    False,  True, False, False, False, False,  True, False,\n",
       "                    False,  True, False, False,  True,  True, False, False,\n",
       "                    False, False, False, False, False, False, False,  True,\n",
       "                    False, False, False, False, False, False, False,  True,\n",
       "                     True, False, False, False, False, False, False, False,\n",
       "                    False,  True, False, False, False, False, False, False,\n",
       "                    False, False, False, False, False, False, False, False,\n",
       "                    False, False, False, False, False, False, False, False,\n",
       "                    False, False, False, False, False, False, False, False,\n",
       "                     True,  True, False, False, False, False, False, False,\n",
       "                    False, False, False, False, False, False, False, False,\n",
       "                    False, False, False, False, False, False, False, False,\n",
       "                    False, False, False, False, False, False, False, False,\n",
       "                    False, False, False, False, False, False, False, False,\n",
       "                    False, False, False, False, False, False, False, False,\n",
       "                    False, False, False, False, False, False, False, False,\n",
       "                    False, False, False, False, False, False, False, False,\n",
       "                    False, False, False, False, False, False, False, False,\n",
       "                    False, False, False, False, False, False, False, False,\n",
       "                    False,  True, False, False, False, False, False, False,\n",
       "                    False, False, False, False,  True, False, False, False,\n",
       "                    False, False, False, False, False, False, False, False,\n",
       "                    False, False, False, False, False, False,  True, False,\n",
       "                     True,  True],\n",
       "        fill_value=1e+20),\n",
       " array([1.00715547, 1.00773509, 1.00833861, 1.00867984, 1.00838575,\n",
       "        1.00762872, 1.00735019, 0.95691312, 1.00602714, 0.97107201,\n",
       "        0.91739675, 1.00889798, 1.00832283, 1.00811039, 1.00752794,\n",
       "        1.02441918, 0.95178843, 0.93103566, 0.95419596, 1.00689272,\n",
       "        1.00681825, 1.00668672, 1.0069648 , 1.00611007, 1.00701707,\n",
       "        1.00798711, 1.00673637, 1.00593313, 1.00795325, 1.00946691,\n",
       "        1.00794251, 1.00738325, 1.03074384, 0.9137719 , 1.00731925,\n",
       "        1.00870251, 1.0099984 , 1.01011257, 1.00925586, 1.00860697,\n",
       "        1.00744874, 1.00709343, 1.0050997 , 0.9300502 , 0.93359688,\n",
       "        1.00104696, 1.00938084, 0.9456432 , 1.00903765, 1.00862941,\n",
       "        1.00999275, 1.04385587, 1.01262022, 1.01085808, 1.00831299,\n",
       "        1.00654264, 0.99063899, 1.0105243 , 1.00271785, 1.01292879,\n",
       "        1.00834079, 1.01866285, 0.88178364, 0.86665624, 1.00896784,\n",
       "        1.01207215, 1.01597622, 1.00995144, 1.01085969, 1.01144867,\n",
       "        0.91136297, 1.0100467 , 1.0097131 , 0.86931695, 0.86671343,\n",
       "        1.01005959, 1.01083314, 0.96436374, 0.9516084 , 1.01233356,\n",
       "        0.91337993, 1.00819527, 1.01069104, 1.01166767, 0.87350066,\n",
       "        0.90656786, 1.00806051, 1.00479798, 1.02366343, 1.0100547 ,\n",
       "        1.00889992, 1.00898245, 1.00898127, 1.0086242 , 1.00802254,\n",
       "        1.01334618, 1.01086614, 1.00871021, 1.00846791, 1.00638765,\n",
       "        1.00593702, 1.0104003 , 1.01079607, 1.00961973, 1.00939914,\n",
       "        1.01075654, 1.00871311, 1.00948375, 0.90029886, 1.00762667,\n",
       "        1.00765801, 1.00737556, 1.00461633, 1.00918801, 1.00871799,\n",
       "        1.0061918 , 1.00723826, 0.91513468, 0.9141263 , 1.01014206,\n",
       "        1.00815723, 1.00791633, 1.00779026, 0.99604216, 1.00845715,\n",
       "        1.00716577, 0.94361133, 1.0056978 , 1.00868924, 0.87187235,\n",
       "        0.87961247, 1.00657202, 1.00853704, 1.00763466, 1.00884315,\n",
       "        0.93894051, 1.00974673, 1.0080061 , 1.00838901, 0.98591364,\n",
       "        0.99118749, 1.007492  , 1.0081181 , 1.00910632, 0.95017987,\n",
       "        1.00983665, 1.00875727, 1.0076099 , 1.00657354, 1.00844046,\n",
       "        1.00770946, 1.0090212 , 0.96559406, 0.96217702, 1.00859517,\n",
       "        1.00917597, 1.00902791, 1.00782789, 1.00431374, 1.00889266,\n",
       "        1.00320733, 1.00408287, 0.94201253, 1.00434319, 0.89465549,\n",
       "        1.00542656, 1.00971759, 0.90653756, 1.00921062, 1.00869617,\n",
       "        1.00647864, 1.00663141, 1.00887673, 1.00886664, 1.00961373,\n",
       "        1.01023431, 1.01070161, 1.01182411, 1.01211542, 1.01147383,\n",
       "        0.95489127, 1.0120711 , 1.01142346, 1.01320645, 1.00313654,\n",
       "        1.00887909, 1.00729809, 1.00747859, 1.00776073, 0.96818907,\n",
       "        0.97342768, 1.01078741, 0.91085949, 1.01122886, 1.01014797,\n",
       "        0.97406913, 1.01034564, 1.0116034 , 1.0182633 , 1.01138563,\n",
       "        1.01098448, 1.00561929, 1.00654475, 1.00997789, 1.00925483,\n",
       "        1.00820887, 1.00751028, 1.00779717, 1.00863463, 1.00975617,\n",
       "        1.00834741, 1.00611646, 0.98835307, 0.98928466, 1.00999007,\n",
       "        1.0120747 , 1.01322304, 0.9472595 , 1.01295263, 1.01041053,\n",
       "        0.99699947, 1.00836382, 1.00487087, 1.01149232, 1.01121189,\n",
       "        1.03215195, 1.01080446, 1.00604295, 1.010888  , 1.01067176,\n",
       "        0.97139392, 1.0141163 , 1.01029294, 0.95431318, 1.01155258,\n",
       "        1.01118586, 0.95846411, 0.92182977, 1.01079579, 1.01016347,\n",
       "        1.0106204 , 1.01016647, 1.00964597, 1.0094865 , 1.00928646,\n",
       "        1.00921721, 1.00915194, 0.96059274, 1.01246599, 1.0103659 ,\n",
       "        1.01015485, 1.01081119, 1.01082098, 1.01135604, 1.01137965,\n",
       "        0.86782152, 0.85595953, 1.01386331, 1.01103176, 1.01010718,\n",
       "        1.0108488 , 1.01202387, 1.01143385, 1.01147188, 0.97013942,\n",
       "        0.94927499, 1.01228797, 1.00999245, 1.00936014, 1.00959686,\n",
       "        1.00929354, 1.01006761, 1.00982858, 1.00630969, 1.01102196,\n",
       "        1.01013101, 1.00947154, 1.00936014, 1.0083427 , 1.00882331,\n",
       "        1.0095058 , 0.96869255, 1.0100691 , 1.009071  , 1.00920625,\n",
       "        1.0098889 , 1.00925025, 1.00876134, 1.0096622 , 1.01083111,\n",
       "        1.01167854, 1.00985762, 1.00965941, 1.00915432, 1.00955193,\n",
       "        1.01010756, 0.95774418, 0.96463917, 1.00708962, 1.01121947,\n",
       "        1.01077338, 1.01102333, 1.01063434, 1.01033997, 1.00388014,\n",
       "        1.01079417, 1.0101797 , 1.00973798, 1.01026297, 1.01010417,\n",
       "        1.01071617, 1.0023811 , 1.01193632, 1.01030286, 1.011146  ,\n",
       "        1.01181122, 1.01193626, 1.01152016, 1.01101236, 1.00921341,\n",
       "        1.0133705 , 1.01055337, 1.00932712, 1.01052759, 1.01165972,\n",
       "        1.01082376, 1.01027124, 1.00277468, 1.01060116, 1.01019262,\n",
       "        1.00990997, 1.00981047, 1.00885857, 1.00878556, 1.00867722,\n",
       "        1.00608611, 1.01182029, 1.00994368, 1.00742187, 1.00942245,\n",
       "        1.00842241, 1.00836429, 1.01054005, 1.01092628, 1.00621237,\n",
       "        1.00841945, 1.00854741, 1.00778407, 1.00719532, 1.00967904,\n",
       "        1.01041063, 1.00583576, 1.00608936, 1.01144061, 1.01246584,\n",
       "        1.00981706, 1.00676336, 1.00824294, 1.00843621, 0.9932171 ,\n",
       "        1.00536109, 1.0042477 , 1.00952925, 1.00825186, 1.00999257,\n",
       "        1.01464531, 1.0138616 , 1.00863574, 1.00763146, 1.00705186,\n",
       "        1.01028571, 1.02228801, 1.00985542, 1.01145024, 1.01102555,\n",
       "        1.01455724, 1.00781969, 1.02653184, 1.01181058, 1.0289737 ,\n",
       "        1.01223731, 1.01140603, 1.01312163, 1.01374176, 1.00606113,\n",
       "        1.0070648 , 0.99922602, 1.01035825, 1.00686561, 1.00787018,\n",
       "        1.01830847, 1.01385559, 1.01371023, 1.01032684, 1.01033221,\n",
       "        1.00639911, 1.00591906, 1.00516679, 1.00476125, 1.00652831,\n",
       "        1.00725758, 1.0065474 , 1.00567275, 1.00450506, 0.97710314,\n",
       "        0.97804214, 0.91853665, 1.0080363 ,        nan,        nan]))"
      ]
     },
     "execution_count": 179,
     "metadata": {},
     "output_type": "execute_result"
    }
   ],
   "source": [
    "# i_fastenough = BT.speed_bt>1.5\n",
    "# a_=interp1(BT.dayuv, BT.a, BT.day_bt)\n",
    "\n",
    "# BT.day_bt[i_fastenough], ph_[i_fastenough], a_[i_fastenough]"
   ]
  },
  {
   "cell_type": "code",
   "execution_count": 173,
   "metadata": {},
   "outputs": [
    {
     "data": {
      "text/plain": [
       "((793,), (793,))"
      ]
     },
     "execution_count": 173,
     "metadata": {},
     "output_type": "execute_result"
    }
   ],
   "source": [
    "# BT.speed_bt.shape, BT.day_bt.shape"
   ]
  },
  {
   "cell_type": "code",
   "execution_count": 154,
   "metadata": {},
   "outputs": [
    {
     "name": "stdout",
     "output_type": "stream",
     "text": [
      "/Users/kthyng/projects/adcp_processing/processed_data/PS18_15_Thyng/postproc\n"
     ]
    }
   ],
   "source": [
    "# %cd -"
   ]
  },
  {
   "cell_type": "markdown",
   "metadata": {},
   "source": [
    "2. use bottom tracking to fill in for bad heading correction\n",
    "Calculate the relationship between heading and phase using fix_phase.use_model(). This uses a previously-calculated model that fits a sine wave to other PS18_09_Leg*_DiMarco cruise Point Sur data. This previous model was calculated in fix_phase.find_model() and was saved so that it can be used in other cases. This assumes that this relationship will be similar on different cruises. Output the calculated relationship to be applied to data.\n",
    "try applying the phase corrections in positive and negative direction to see which is correct"
   ]
  },
  {
   "cell_type": "code",
   "execution_count": 156,
   "metadata": {},
   "outputs": [
    {
     "data": {
      "text/plain": [
       "'/Users/kthyng/projects/adcp_processing/processed_data/PS18_15_Thyng/postproc/'"
      ]
     },
     "execution_count": 156,
     "metadata": {},
     "output_type": "execute_result"
    }
   ],
   "source": [
    "# procpathroot"
   ]
  },
  {
   "cell_type": "code",
   "execution_count": 160,
   "metadata": {},
   "outputs": [
    {
     "name": "stdout",
     "output_type": "stream",
     "text": [
      "/Users/kthyng/projects/adcp_processing/ptsur_model\n",
      "/Users/kthyng/projects/adcp_processing/processed_data/PS18_15_Thyng/postproc\n"
     ]
    },
    {
     "name": "stderr",
     "output_type": "stream",
     "text": [
      "/Users/kthyng/opt/miniconda3/envs/pycodas/lib/python3.7/site-packages/matplotlib/cbook/__init__.py:1377: FutureWarning: Support for multi-dimensional indexing (e.g. `obj[:, None]`) is deprecated and will be removed in a future version.  Convert to a numpy array before indexing instead.\n",
      "  x[:, None]\n",
      "/Users/kthyng/opt/miniconda3/envs/pycodas/lib/python3.7/site-packages/matplotlib/axes/_base.py:237: FutureWarning: Support for multi-dimensional indexing (e.g. `obj[:, None]`) is deprecated and will be removed in a future version.  Convert to a numpy array before indexing instead.\n",
      "  x = x[:, np.newaxis]\n",
      "/Users/kthyng/opt/miniconda3/envs/pycodas/lib/python3.7/site-packages/matplotlib/axes/_base.py:239: FutureWarning: Support for multi-dimensional indexing (e.g. `obj[:, None]`) is deprecated and will be removed in a future version.  Convert to a numpy array before indexing instead.\n",
      "  y = y[:, np.newaxis]\n",
      "/Users/kthyng/opt/miniconda3/envs/pycodas/lib/python3.7/site-packages/matplotlib/cbook/__init__.py:1377: FutureWarning: Support for multi-dimensional indexing (e.g. `obj[:, None]`) is deprecated and will be removed in a future version.  Convert to a numpy array before indexing instead.\n",
      "  x[:, None]\n",
      "/Users/kthyng/opt/miniconda3/envs/pycodas/lib/python3.7/site-packages/matplotlib/axes/_base.py:237: FutureWarning: Support for multi-dimensional indexing (e.g. `obj[:, None]`) is deprecated and will be removed in a future version.  Convert to a numpy array before indexing instead.\n",
      "  x = x[:, np.newaxis]\n"
     ]
    },
    {
     "data": {
      "image/png": "[encoded data removed]",
      "text/plain": [
       "<Figure size 432x288 with 1 Axes>"
      ]
     },
     "metadata": {
      "needs_background": "light"
     },
     "output_type": "display_data"
    },
    {
     "data": {
      "image/png": "[encoded data removed]",
      "text/plain": [
       "<Figure size 864x288 with 1 Axes>"
      ]
     },
     "metadata": {
      "needs_background": "light"
     },
     "output_type": "display_data"
    }
   ],
   "source": [
    "# pathmodel = os.path.join('..', '..','..', 'ptsur_model')\n",
    "# %cd $pathmodel\n",
    "# import fix_phase\n",
    "# fix_phase.use_model(procpath_unrotated)\n",
    "# %cd -"
   ]
  },
  {
   "cell_type": "markdown",
   "metadata": {},
   "source": [
    "### Plot"
   ]
  },
  {
   "cell_type": "code",
   "execution_count": 33,
   "metadata": {},
   "outputs": [
    {
     "data": {
      "text/plain": [
       "'/Users/kthyng/projects/adcp_processing/processed_data/PS18_15_Thyng/postproc/wh1200'"
      ]
     },
     "execution_count": 33,
     "metadata": {},
     "output_type": "execute_result"
    }
   ],
   "source": [
    "pwd"
   ]
  },
  {
   "cell_type": "code",
   "execution_count": 34,
   "metadata": {},
   "outputs": [],
   "source": [
    "\n",
    "#!/usr/bin/env python\n",
    "\n",
    "## written by quick_mplplots.py -- edit as needed:\n",
    "\n",
    "## cruiseid      is 'ADCP'\n",
    "## dbname        is 'a_ps'\n",
    "## proc_yearbase is 2017\n",
    "## printformats   is 'png'\n",
    "\n",
    "import matplotlib.pyplot as plt\n",
    "\n",
    "\n",
    "\n",
    "\n",
    "\n",
    "from pycurrents.adcp.quick_mpl import Btplot\n",
    "\n",
    "## other parameters that can be chosen:\n",
    "##   name            default\n",
    "##   ------        --------------\n",
    "##   dbname           (found in ../../adcpdb)\n",
    "##   titlestr         (uses ADCP\n",
    "##   proc_yearbase    (first year in database)\n",
    "##   load_only                  False   # no output\n",
    "##   printformats               'pdf'\n",
    "##   dpi                        100\n",
    "##   outfilebase               'btcal'\n",
    "##   ddrange                    'all'\n",
    "##   step                       1\n",
    "##   min_speed                  2\n",
    "##   max_sig                    2.5\n",
    "##   max_gap                    0.1\n",
    "##   tol_dt                     0.02\n",
    "##   min_depth                  25                #shallower for high freq\n",
    "##   max_depth                  1500\n",
    "##\n",
    "\n",
    "BT = Btplot()\n",
    "BT(btm_filename=procpath_unrotated + '/cal/botmtrk/a_ps.btm',\n",
    "   ref_filename=procpath_unrotated + '/cal/botmtrk/a_ps.ref',\n",
    "   cruiseid = 'ADCP',\n",
    "   max_depth = 300,\n",
    "   printformats = 'png',\n",
    "   min_speed      =            0.2,\n",
    "   max_sig        =            2.5,\n",
    "   max_gap        =            0.1,\n",
    "   tol_dt         =            0.02,\n",
    "   min_depth      =            1,\n",
    "   proc_yearbase='2017')\n"
   ]
  },
  {
   "cell_type": "code",
   "execution_count": 35,
   "metadata": {},
   "outputs": [
    {
     "data": {
      "text/plain": [
       "[<matplotlib.lines.Line2D at 0x15e88df90>]"
      ]
     },
     "execution_count": 35,
     "metadata": {},
     "output_type": "execute_result"
    },
    {
     "data": {
      "image/png": "[encoded data removed]",
      "text/plain": [
       "<Figure size 432x288 with 1 Axes>"
      ]
     },
     "metadata": {
      "needs_background": "light"
     },
     "output_type": "display_data"
    }
   ],
   "source": [
    "# modelfitname = 'model_fit.txt'\n",
    "# fit = np.loadtxt('/Users/kthyng/projects/adcp_processing/ptsur_model/' + modelfitname)\n",
    "\n",
    "scrit = 1.5\n",
    "\n",
    "# ph_=interp1(BT.dayuv, BT.ph, BT.day_bt)\n",
    "# a_=interp1(BT.dayuv, BT.a, BT.day_bt)\n",
    "# ind_bt = BT.speed_bt>1.5\n",
    "# i_fastenough = BT.speed_bt>1.5\n",
    "# ind = BT.day_bt[i_fastenough]\n",
    "# ph = ph_[i_fastenough]\n",
    "# amp = a_[i_fastenough]\n",
    "\n",
    "# create dataframe for amp/ph data\n",
    "# uv = pd.DataFrame(index=ind, data={'phase': ph, 'amp': amp})\n",
    "uv = pd.DataFrame(index=BT.dayuv, data={'phase': BT.ph, 'amp': BT.a})\n",
    "# bottom track dataframe with own indices\n",
    "# bt = pd.DataFrame(index=ind, data={'heading': BT.heading_bt[i_fastenough]})\n",
    "bt = pd.DataFrame(index=BT.day_bt, data={'heading': BT.heading_bt, 'speed': BT.speed_bt})\n",
    "scn = pd.read_table(procpath_unrotated + '/cal/rotate/scn.hdg', index_col=0,\n",
    "                      delim_whitespace=True, header=None, comment='%',\n",
    "                      names=['mean heading', 'last heading', 'correction'])\n",
    "# hcorr = pd.read_table(leg + '/proc/wh300/cal/rotate/ens_hcorr.ang', index_col=0,\n",
    "#                       delim_whitespace=True, header=None, names=['hcorr'])\n",
    "\n",
    "# bt[bt.speed<scrit] = np.nan\n",
    "# uv[uv.phase<1] = np.nan\n",
    "# uv[uv.phase>3] = np.nan\n",
    "\n",
    "# bt = bt[bt.speed>scrit]\n",
    "# uv = uv[uv.phase>1] \n",
    "# uv = uv[uv.phase<3] \n",
    "\n",
    "# all indices included\n",
    "dfall = scn.join(uv, how='outer').join(bt, how='outer').interpolate('index')\n",
    "dfall = dfall.reindex(scn.index)  # just scn indices\n",
    "\n",
    "# df[(df.speed>scrit)] = np.nan\n",
    "\n",
    "# df[df.speed>scrit] = np.nan\n",
    "# df = df.interpolate('values')\n",
    "df = dfall[(dfall.speed>scrit) & (dfall.phase>0) & (dfall.phase<2)]\n",
    "# df = dfall\n",
    "df = df[~df.isnull().sum(axis=1).astype(bool)]  # with no nans\n",
    "\n",
    "plt.plot(df.heading.values, df.phase.values, 'o', alpha=0.5)\n"
   ]
  },
  {
   "cell_type": "code",
   "execution_count": 37,
   "metadata": {},
   "outputs": [],
   "source": [
    "def sine_fit(x, freq, amplitude, phase, offset):\n",
    "    '''sine wave function.'''\n",
    "\n",
    "    return np.sin(x * np.deg2rad(freq) + np.deg2rad(phase)) * amplitude + offset\n"
   ]
  },
  {
   "cell_type": "code",
   "execution_count": 40,
   "metadata": {},
   "outputs": [
    {
     "name": "stderr",
     "output_type": "stream",
     "text": [
      "/Users/kthyng/opt/miniconda3/envs/pycodas/lib/python3.7/site-packages/matplotlib/cbook/__init__.py:1377: FutureWarning: Support for multi-dimensional indexing (e.g. `obj[:, None]`) is deprecated and will be removed in a future version.  Convert to a numpy array before indexing instead.\n",
      "  x[:, None]\n",
      "/Users/kthyng/opt/miniconda3/envs/pycodas/lib/python3.7/site-packages/matplotlib/axes/_base.py:237: FutureWarning: Support for multi-dimensional indexing (e.g. `obj[:, None]`) is deprecated and will be removed in a future version.  Convert to a numpy array before indexing instead.\n",
      "  x = x[:, np.newaxis]\n",
      "/Users/kthyng/opt/miniconda3/envs/pycodas/lib/python3.7/site-packages/matplotlib/axes/_base.py:239: FutureWarning: Support for multi-dimensional indexing (e.g. `obj[:, None]`) is deprecated and will be removed in a future version.  Convert to a numpy array before indexing instead.\n",
      "  y = y[:, np.newaxis]\n"
     ]
    },
    {
     "data": {
      "text/plain": [
       "array([1.07223861, 0.43266636, 9.34330006, 1.05751708])"
      ]
     },
     "execution_count": 40,
     "metadata": {},
     "output_type": "execute_result"
    },
    {
     "data": {
      "image/png": "[encoded data removed]",
      "text/plain": [
       "<Figure size 432x288 with 1 Axes>"
      ]
     },
     "metadata": {
      "needs_background": "light"
     },
     "output_type": "display_data"
    }
   ],
   "source": [
    "\n",
    "# fit = curve_fit(sine_fit, df['heading'].values, df['phase'].values)\n",
    "# plt.plot(df['heading'], df['phase'], 'o', label='data', color='r', alpha=0.5)\n",
    "\n",
    "# data_fit = sine_fit(dfall['heading'].values, *fit[0])\n",
    "# plt.plot(dfall['heading'], data_fit, '.', label='fitting', color='m', lw=3)\n",
    "# fit[0]"
   ]
  },
  {
   "cell_type": "code",
   "execution_count": 41,
   "metadata": {},
   "outputs": [],
   "source": [
    "# dfall['new phase'] = sine_fit(dfall['heading'].values, *fit[0])\n",
    "# # df['new phase'] = sine_fit(df['last heading'].values, *fit[0])"
   ]
  },
  {
   "cell_type": "code",
   "execution_count": 42,
   "metadata": {},
   "outputs": [
    {
     "data": {
      "text/plain": [
       "(0.0, 2.5)"
      ]
     },
     "execution_count": 42,
     "metadata": {},
     "output_type": "execute_result"
    },
    {
     "data": {
      "image/png": "[encoded data removed]",
      "text/plain": [
       "<Figure size 432x288 with 1 Axes>"
      ]
     },
     "metadata": {
      "needs_background": "light"
     },
     "output_type": "display_data"
    }
   ],
   "source": [
    "#     fig = plt.figure()\n",
    "#     ax = fig.add_subplot(111)\n",
    "#     ax.plot(df['heading'], df['phase'], 'o', alpha=0.5, label='data')\n",
    "# #     ax.plot(df['last heading'], df['new phase'], 'o', alpha=0.5, label='model')\n",
    "#     ax.plot(dfall['heading'], dfall['new phase'], 'o', alpha=0.5, label='model')\n",
    "#     ax.set_xlabel('heading')\n",
    "#     ax.set_ylabel('phase')\n",
    "#     ax.set_ylim(0.0,2.5) "
   ]
  },
  {
   "cell_type": "code",
   "execution_count": 43,
   "metadata": {},
   "outputs": [
    {
     "name": "stderr",
     "output_type": "stream",
     "text": [
      "/Users/kthyng/opt/miniconda3/envs/pycodas/lib/python3.7/site-packages/matplotlib/cbook/__init__.py:1377: FutureWarning: Support for multi-dimensional indexing (e.g. `obj[:, None]`) is deprecated and will be removed in a future version.  Convert to a numpy array before indexing instead.\n",
      "  x[:, None]\n",
      "/Users/kthyng/opt/miniconda3/envs/pycodas/lib/python3.7/site-packages/matplotlib/axes/_base.py:237: FutureWarning: Support for multi-dimensional indexing (e.g. `obj[:, None]`) is deprecated and will be removed in a future version.  Convert to a numpy array before indexing instead.\n",
      "  x = x[:, np.newaxis]\n",
      "/Users/kthyng/opt/miniconda3/envs/pycodas/lib/python3.7/site-packages/matplotlib/cbook/__init__.py:1377: FutureWarning: Support for multi-dimensional indexing (e.g. `obj[:, None]`) is deprecated and will be removed in a future version.  Convert to a numpy array before indexing instead.\n",
      "  x[:, None]\n",
      "/Users/kthyng/opt/miniconda3/envs/pycodas/lib/python3.7/site-packages/matplotlib/axes/_base.py:237: FutureWarning: Support for multi-dimensional indexing (e.g. `obj[:, None]`) is deprecated and will be removed in a future version.  Convert to a numpy array before indexing instead.\n",
      "  x = x[:, np.newaxis]\n"
     ]
    },
    {
     "data": {
      "text/plain": [
       "Text(0, 0.5, 'Degrees')"
      ]
     },
     "execution_count": 43,
     "metadata": {},
     "output_type": "execute_result"
    },
    {
     "data": {
      "image/png": "[encoded data removed]",
      "text/plain": [
       "<Figure size 1080x360 with 1 Axes>"
      ]
     },
     "metadata": {
      "needs_background": "light"
     },
     "output_type": "display_data"
    }
   ],
   "source": [
    "#     fig2 = plt.figure(figsize=(15,5))\n",
    "#     ax2 = fig2.add_subplot(111)\n",
    "#     ilow = dfall.speed<scrit\n",
    "#     ihigh = dfall.speed>=scrit\n",
    "#     ax2.plot(dfall.index[ilow], dfall.phase[ilow].values, 'k.')\n",
    "#     ax2.plot(dfall.index[ihigh], dfall.phase[ihigh].values, 'kx')\n",
    "\n",
    "#     ilow = dfall.speed<scrit\n",
    "#     ihigh = dfall.speed>=scrit\n",
    "#     ax2.plot(dfall.index[ilow], dfall['new phase'][ilow].values, 'r.')\n",
    "#     ax2.plot(dfall.index[ihigh], dfall['new phase'][ihigh].values, 'rx')\n",
    "# #     ax2.plot(dfall.index, dfall['new phase'].values, 'rx')\n",
    "#     # ax2.axis('tight')\n",
    "#     ax2.set_ylim(0,2.0)\n",
    "#     ax2.set_xlabel('Decimal Day')\n",
    "#     ax2.set_ylabel('Degrees')\n",
    "#     # just show part of a day\n",
    "# #     ax2.set_xlim(BT.dayuv.min(), BT.dayuv.min()+1)\n"
   ]
  },
  {
   "cell_type": "markdown",
   "metadata": {},
   "source": [
    "### Fit"
   ]
  },
  {
   "cell_type": "markdown",
   "metadata": {},
   "source": [
    "With interpolation to fill in first, and WH1200 fit"
   ]
  },
  {
   "cell_type": "code",
   "execution_count": 45,
   "metadata": {},
   "outputs": [],
   "source": [
    "df2 = df.reindex(scn.index)\n",
    "key = 'last heading'  # 'last heading'\n",
    "df2[key] = df2[key].interpolate().interpolate(method='bfill')\n",
    "df2['new phase'] = sine_fit(df2[key].values, *fit[0])\n"
   ]
  },
  {
   "cell_type": "markdown",
   "metadata": {},
   "source": [
    "### Check"
   ]
  },
  {
   "cell_type": "code",
   "execution_count": 46,
   "metadata": {},
   "outputs": [
    {
     "name": "stderr",
     "output_type": "stream",
     "text": [
      "/Users/kthyng/opt/miniconda3/envs/pycodas/lib/python3.7/site-packages/matplotlib/axes/_base.py:239: FutureWarning: Support for multi-dimensional indexing (e.g. `obj[:, None]`) is deprecated and will be removed in a future version.  Convert to a numpy array before indexing instead.\n",
      "  y = y[:, np.newaxis]\n"
     ]
    },
    {
     "data": {
      "text/plain": [
       "(0.0, 2.5)"
      ]
     },
     "execution_count": 46,
     "metadata": {},
     "output_type": "execute_result"
    },
    {
     "data": {
      "image/png": "[encoded data removed]",
      "text/plain": [
       "<Figure size 432x288 with 1 Axes>"
      ]
     },
     "metadata": {
      "needs_background": "light"
     },
     "output_type": "display_data"
    }
   ],
   "source": [
    "    fig = plt.figure()\n",
    "    ax = fig.add_subplot(111)\n",
    "    ax.plot(df2[key], df2['phase'], 'o', alpha=0.5, label='data')\n",
    "    ax.plot(df2[key], df2['new phase'], 'o', alpha=0.5, label='model')\n",
    "    ax.set_xlabel('heading')\n",
    "    ax.set_ylabel('phase')\n",
    "    ax.set_ylim(0.0,2.5)"
   ]
  },
  {
   "cell_type": "code",
   "execution_count": 47,
   "metadata": {},
   "outputs": [
    {
     "name": "stderr",
     "output_type": "stream",
     "text": [
      "/Users/kthyng/opt/miniconda3/envs/pycodas/lib/python3.7/site-packages/matplotlib/cbook/__init__.py:1377: FutureWarning: Support for multi-dimensional indexing (e.g. `obj[:, None]`) is deprecated and will be removed in a future version.  Convert to a numpy array before indexing instead.\n",
      "  x[:, None]\n",
      "/Users/kthyng/opt/miniconda3/envs/pycodas/lib/python3.7/site-packages/matplotlib/axes/_base.py:237: FutureWarning: Support for multi-dimensional indexing (e.g. `obj[:, None]`) is deprecated and will be removed in a future version.  Convert to a numpy array before indexing instead.\n",
      "  x = x[:, np.newaxis]\n"
     ]
    },
    {
     "data": {
      "text/plain": [
       "Text(0, 0.5, 'Degrees')"
      ]
     },
     "execution_count": 47,
     "metadata": {},
     "output_type": "execute_result"
    },
    {
     "data": {
      "image/png": "[encoded data removed]",
      "text/plain": [
       "<Figure size 1080x360 with 1 Axes>"
      ]
     },
     "metadata": {
      "needs_background": "light"
     },
     "output_type": "display_data"
    }
   ],
   "source": [
    "    fig2 = plt.figure(figsize=(15,5))\n",
    "    ax2 = fig2.add_subplot(111)\n",
    "    ilow = dfall.speed<scrit\n",
    "    ihigh = dfall.speed>=scrit\n",
    "    ax2.plot(dfall.index[ilow], dfall.phase[ilow].values, 'k.')\n",
    "    ax2.plot(dfall.index[ihigh], dfall.phase[ihigh].values, 'kx')\n",
    "#     ax2.plot(df.index, df.phase, 'ro')\n",
    "    ax2.plot(df2.index, df2['new phase'].values, 'rx')\n",
    "    # ax2.axis('tight')\n",
    "    ax2.set_ylim(0,2.5)\n",
    "    ax2.set_xlabel('Decimal Day')\n",
    "    ax2.set_ylabel('Degrees')\n",
    "    # just show part of a day\n",
    "#     ax2.set_xlim(BT.dayuv.min(), BT.dayuv.min()+1)\n"
   ]
  },
  {
   "cell_type": "markdown",
   "metadata": {},
   "source": [
    "### Save results\n",
    "\n",
    "Save with correction applied both positive and negative to see which should be used."
   ]
  },
  {
   "cell_type": "code",
   "execution_count": 48,
   "metadata": {},
   "outputs": [],
   "source": [
    "fname = procpath_unrotated + '/cal/rotate/rotate_btphase_positive.ang'\n",
    "df2['new phase'].to_csv(fname, sep=' ')\n",
    "# negative angle\n",
    "fname = procpath_unrotated + '/cal/rotate/rotate_btphase_negative.ang'\n",
    "(-df2['new phase']).to_csv(fname, sep=' ')\n"
   ]
  },
  {
   "cell_type": "code",
   "execution_count": 49,
   "metadata": {},
   "outputs": [
    {
     "data": {
      "text/plain": [
       "'/Users/kthyng/projects/adcp_processing/processed_data/PS18_15_Thyng/postproc/wh1200'"
      ]
     },
     "execution_count": 49,
     "metadata": {},
     "output_type": "execute_result"
    }
   ],
   "source": [
    "pwd"
   ]
  },
  {
   "cell_type": "markdown",
   "metadata": {},
   "source": [
    "## Apply heading correction\n",
    "\n",
    "Try rotating positive first. It turns out this is the correct direction so I do not apply the negative direction rotation."
   ]
  },
  {
   "cell_type": "markdown",
   "metadata": {},
   "source": [
    "### Directory copy"
   ]
  },
  {
   "cell_type": "code",
   "execution_count": 50,
   "metadata": {},
   "outputs": [],
   "source": [
    "# 1.\n",
    "procpath_unrotated_newrotp = os.path.join(procpathroot, device + '.unrotated.newrotp')\n",
    "!cp -r $procpath_unrotated $procpath_unrotated_newrotp\n",
    "\n",
    "dbpath = os.path.join(procpath_unrotated_newrotp, 'adcpdb', 'a_ps')\n"
   ]
  },
  {
   "cell_type": "markdown",
   "metadata": {},
   "source": [
    "### Rotate Data\n",
    "\n",
    "with new correction values"
   ]
  },
  {
   "cell_type": "code",
   "execution_count": 59,
   "metadata": {},
   "outputs": [],
   "source": [
    "# Giving database location relative to this notebook\n",
    "text = ' DB_NAME:       ' + dbpath + '\\n'\n",
    "text +=''' LOG_FILE:      rotate.log\n",
    "           TIME_RANGE:    all\n",
    "\n",
    "           OPTION_LIST:\n",
    "              water_and_bottom_track:\n",
    "                year_base=          2017\n",
    "                time_angle_file:  %s/cal/rotate/rotate_btphase_positive.ang\n",
    "                amplitude=          1.0\n",
    "                angle_0=            0.0\n",
    "                end\n",
    "              end\n",
    "''' % procpath_unrotated_newrotp\n",
    "\n",
    "# create helper file to unrotate data\n",
    "f = open(os.path.join(procpath_unrotated_newrotp, 'cal', 'rotate', 'rotate.tmp'), 'w')\n",
    "f.write(text)\n",
    "f.close()"
   ]
  },
  {
   "cell_type": "code",
   "execution_count": 60,
   "metadata": {},
   "outputs": [
    {
     "name": "stdout",
     "output_type": "stream",
     "text": [
      "INFO: database /Users/kthyng/projects/adcp_processing/processed_data/PS18_15_Thyng/postproc/wh1200.unrotated.newrotp/adcpdb/a_ps opened\n",
      "\n",
      "--------\n",
      " Pass 1: Checking control file...\n",
      "--------\n",
      "INFO: DBMOVE search beyond end\n",
      "% OPTIONS:\n",
      "% =======\n",
      "% water_and_bottom_track:% OPTIONS:\n",
      "% =======\n",
      "% year_base= 2017\n",
      "% time_angle_file:                                                                                                                                                                                                                                                                                                                                                                                   /Users/kthyng/projects/adcp_processing/processed_data/PS18_15_Thyng/postproc/wh1200.unrotated.newrotp/cal/rotate/rotate_btphase_positive.ang\n",
      "% amplitude= 1.000000\n",
      "% angle_0= 0.000000\n",
      "% =======\n",
      "\n",
      "% =======\n",
      "INFO: DBMOVE search beyond end\n",
      "\n",
      "--------\n",
      " Pass 2: Updating database...\n",
      "--------\n",
      "% OPTIONS:\n",
      "% =======\n",
      "% water_and_bottom_track:% OPTIONS:\n",
      "% =======\n",
      "% year_base= 2017\n",
      "% time_angle_file:                                                                                                                                                                                                                                                                                                                                                                                   /Users/kthyng/projects/adcp_processing/processed_data/PS18_15_Thyng/postproc/wh1200.unrotated.newrotp/cal/rotate/rotate_btphase_positive.ang\n",
      "% amplitude= 1.000000\n",
      "% angle_0= 0.000000\n",
      "% =======\n",
      "\n",
      "% =======\n",
      "\n",
      " Processing range:  2017/11/06 06:31:00 to 2017/11/09 01:02:00\n",
      "\n",
      " END OF DATABASE\n",
      "\n",
      "INFO: database closed\n",
      "\n",
      "\n"
     ]
    }
   ],
   "source": [
    "# 2.\n",
    "path = os.path.join(procpath_unrotated_newrotp, 'cal', 'rotate', 'rotate.tmp')\n",
    "!rotate $path  # rotate\n"
   ]
  },
  {
   "cell_type": "markdown",
   "metadata": {},
   "source": [
    "### Rerun calibration"
   ]
  },
  {
   "cell_type": "code",
   "execution_count": 61,
   "metadata": {},
   "outputs": [
    {
     "name": "stdout",
     "output_type": "stream",
     "text": [
      "/Users/kthyng/projects/adcp_processing/processed_data/PS18_15_Thyng/postproc/wh1200.unrotated.newrotp\n",
      "found dbinfo.txt: use values if otherwise unspecified\n",
      "fix file is a_ps.gps\n",
      "reflayer: ref_method = refsm\n",
      "reflayer: refuv_source = nav\n",
      "reflayer: refuv_smoothwin = 3\n",
      "found steps2rerun: navsteps:calib\n",
      "=====================================================\n",
      "===========  new run: steps2rerun====================\n",
      "=====================================================\n",
      "command line was: /Users/kthyng/opt/miniconda3/envs/pycodas/bin/quick_adcp.py --steps2rerun navsteps:calib --auto\n",
      "cwd is /Users/kthyng/projects/adcp_processing/processed_data/PS18_15_Thyng/postproc/wh1200.unrotated.newrotp\n",
      "about to run these steps:\n",
      " - navsteps\n",
      " - calib\n",
      " - adcpsect\n",
      " - refabs\n",
      " - smoothnav\n",
      " - putnav\n",
      " - refplots\n",
      " - codaseditsetup\n",
      "database time range:\n",
      "2017/11/06  06:31:53 to 2017/11/09  01:02:00\n",
      "(309.272141 to 312.043056)\n",
      "---------------------------------------------\n",
      "step 1: set up files for codas editing (gautoedit.py)\n",
      "\n",
      "---------------------------------------------\n",
      "step 2: run all navsteps \n",
      "\n",
      "\n",
      "-------------------------\n",
      "---- running navsteps ---\n",
      "-------------------------\n",
      "step 3: adjust GPS sensor location\n",
      "navstep 1\n",
      "-------------------------\n",
      "step 4: nav steps: run adcpsect\n",
      "navstep 2\n",
      "... ran adcpsect for navsteps\n",
      "-------------------------\n",
      "step 5: nav steps: run refabs\n",
      "navstep 3\n",
      "... ran refabs for navsteps\n",
      "-------------------------\n",
      "step 6: nav steps: run smoothr for plots\n",
      "navstep 4\n",
      "... ran smoothr\n",
      "-------------------------\n",
      "step 7: nav steps: smooth navigation for velocities\n",
      "navstep 5\n",
      "smoothing method for ship speed: refsm\n",
      "   smoothing window: 3\n",
      "   ship speed source: nav\n",
      "... shipspeed smoothing step done\n",
      "-------------------------\n",
      "step 8: nav steps: put positions and uvship from refsm into codasdb \n",
      "navstep 6\n",
      "... ran put_txy\n",
      "... ran put_tuv\n",
      "... made navigation plot\n",
      "-------------------------\n",
      "step 9: nav steps: make reflayer plots\n",
      "navstep 7\n",
      "... made reflayer plots\n",
      "---------------------------------------------\n",
      "step 3: run calibration steps \n",
      "\n",
      "...bottom track info in check cal/botmtrk\n",
      "... watertrack info in cal/watertrk\n",
      "... check cal/watertrk for estimate\n",
      "/Users/kthyng/projects/adcp_processing/processed_data/PS18_15_Thyng/postproc/wh1200\n"
     ]
    }
   ],
   "source": [
    "# 3.\n",
    "%cd $procpath_unrotated_newrotp\n",
    "!quick_adcp.py --steps2rerun navsteps:calib --auto  # redo calibration without rotation\n",
    "%cd -"
   ]
  },
  {
   "cell_type": "markdown",
   "metadata": {},
   "source": [
    "### Check new calibration"
   ]
  },
  {
   "cell_type": "markdown",
   "metadata": {},
   "source": [
    "#### Bottom track\n",
    "\n",
    "Best for checking phase. Looks good!"
   ]
  },
  {
   "cell_type": "code",
   "execution_count": 62,
   "metadata": {},
   "outputs": [
    {
     "name": "stdout",
     "output_type": "stream",
     "text": [
      "Automatically rotated, original case:\n",
      "\n",
      "edited:   180 points, 2.0 min speed, 2.5 max dev\n",
      "            median     mean      std\n",
      "amplitude   0.9981   0.9980   0.0026\n",
      "phase       1.1058   1.0492   0.4249\n",
      "\n",
      "\n",
      "\n",
      "New unrotated case:\n",
      "\n",
      "edited:   175 points, 2.0 min speed, 2.5 max dev\n",
      "            median     mean      std\n",
      "amplitude   0.9982   0.9980   0.0026\n",
      "phase       0.0000  -0.0074   0.2408\n",
      "\n"
     ]
    }
   ],
   "source": [
    "# look at bottom track calibration for phase correction\n",
    "print('Automatically rotated, original case:\\n')\n",
    "path = os.path.join(procpath_unrotated, 'cal', 'botmtrk', 'btcaluv.out')\n",
    "!tail -5 $path  \n",
    "\n",
    "print('\\n\\nNew unrotated case:\\n')\n",
    "path = os.path.join(procpath_unrotated_newrotp, 'cal', 'botmtrk', 'btcaluv.out')\n",
    "!tail -5 $path"
   ]
  },
  {
   "cell_type": "markdown",
   "metadata": {},
   "source": [
    "#### Water track\n",
    "\n",
    "Best for checking amplitude. Could use small correction."
   ]
  },
  {
   "cell_type": "code",
   "execution_count": 63,
   "metadata": {},
   "outputs": [
    {
     "name": "stdout",
     "output_type": "stream",
     "text": [
      "Automatically rotated, original case:\n",
      "\n",
      " ADCP watertrack calibration\n",
      "##\n",
      " Time range 311.15 to 311.78\n",
      "   Calculation done at Wed Jan 27 22:00:25 2021\n",
      "   delta-u min = -100.00, max = 100.00\n",
      "   delta-v min = -100.00, max = 100.00\n",
      "   clip_amp = 0.04,  clip_ph =  3.0\n",
      "   clip_dt =   60,  clip_var = 0.050\n",
      "Number of edited points:   3 out of   5\n",
      "   amp   = 0.9857  + 0.1495 (t - 311.3)\n",
      "   phase =   1.43  + 9.5108 (t - 311.3)\n",
      "            median     mean      std\n",
      "amplitude   0.9910   0.9857   0.0147\n",
      "phase       1.4880   1.4297   1.1666\n",
      "nav - pc    1.0000   0.0000   6.5574\n",
      "var         0.0030   0.0040   0.0036\n",
      "min var     0.0030   0.0037   0.0031\n",
      "delta-u     1.8300   1.1467   1.6079\n",
      "delta-v     1.3900   0.9067   1.7265\n",
      "\n",
      "\n",
      "\n",
      "New unrotated case:\n",
      "\n",
      " ADCP watertrack calibration\n",
      "##\n",
      " Time range 311.15 to 311.78\n",
      "   Calculation done at Wed Jan 27 22:09:44 2021\n",
      "   delta-u min = -100.00, max = 100.00\n",
      "   delta-v min = -100.00, max = 100.00\n",
      "   clip_amp = 0.04,  clip_ph =  3.0\n",
      "   clip_dt =   60,  clip_var = 0.050\n",
      "Number of edited points:   2 out of   4\n",
      "   amp   = 0.9795  + 0.1503 (t - 311.2)\n",
      "   phase =   0.04  + 14.3333 (t - 311.2)\n",
      "            median     mean      std\n",
      "amplitude   0.9795   0.9795   0.0163\n",
      "phase       0.0425   0.0425   1.5507\n",
      "nav - pc   -3.5000  -3.5000  12.0208\n",
      "var         0.0045   0.0045   0.0049\n",
      "min var     0.0040   0.0040   0.0042\n",
      "delta-u     2.0650   2.0650   0.3323\n",
      "delta-v     0.1900   0.1900   1.6971\n",
      "\n"
     ]
    }
   ],
   "source": [
    "# look at water track calibration for comparison\n",
    "print('Automatically rotated, original case:\\n')\n",
    "path = os.path.join(procpath_unrotated, 'cal', 'watertrk', 'adcpcal.out')\n",
    "!tail -20 $path  \n",
    "\n",
    "print('\\n\\nNew unrotated case:\\n')\n",
    "path = os.path.join(procpath_unrotated_newrotp, 'cal', 'watertrk', 'adcpcal.out')\n",
    "!tail -20 $path"
   ]
  },
  {
   "cell_type": "markdown",
   "metadata": {},
   "source": [
    "### Apply amplitude correction\n",
    "\n",
    "Apply small correction that is a combination of the amplitude median (0.9795) and mean (0.9795). We will use 0.9795.   "
   ]
  },
  {
   "cell_type": "code",
   "execution_count": 74,
   "metadata": {},
   "outputs": [
    {
     "name": "stdout",
     "output_type": "stream",
     "text": [
      "/Users/kthyng/projects/adcp_processing/processed_data/PS18_15_Thyng/postproc/wh1200.unrotated.newrotp\n",
      "found dbinfo.txt: use values if otherwise unspecified\n",
      "fix file is a_ps.gps\n",
      "reflayer: ref_method = refsm\n",
      "reflayer: refuv_source = nav\n",
      "reflayer: refuv_smoothwin = 3\n",
      "found steps2rerun: rotate:apply_edit:navsteps:calib\n",
      "=====================================================\n",
      "===========  new run: steps2rerun====================\n",
      "=====================================================\n",
      "command line was: /Users/kthyng/opt/miniconda3/envs/pycodas/bin/quick_adcp.py --steps2rerun rotate:apply_edit:navsteps:calib --rotate_amplitude 0.9795 --auto\n",
      "cwd is /Users/kthyng/projects/adcp_processing/processed_data/PS18_15_Thyng/postproc/wh1200.unrotated.newrotp\n",
      "about to run these steps:\n",
      " - rotate\n",
      " - apply_edit\n",
      " - navsteps\n",
      " - calib\n",
      " - adcpsect\n",
      " - refabs\n",
      " - smoothnav\n",
      " - putnav\n",
      " - refplots\n",
      " - codaseditsetup\n",
      "database time range:\n",
      "2017/11/06  06:31:53 to 2017/11/09  01:02:00\n",
      "(309.272141 to 312.043056)\n",
      "---------------------------------------------\n",
      "step 1: set up files for codas editing (gautoedit.py)\n",
      "\n",
      "---------------------------------------------\n",
      "step 2: rotate velocities\n",
      "\n",
      "---------------------------------------------\n",
      "step 3: apply editing \n",
      "\n",
      "---------------------------------------------\n",
      "step 4: run all navsteps \n",
      "\n",
      "\n",
      "-------------------------\n",
      "---- running navsteps ---\n",
      "-------------------------\n",
      "step 5: adjust GPS sensor location\n",
      "navstep 1\n",
      "-------------------------\n",
      "step 6: nav steps: run adcpsect\n",
      "navstep 2\n",
      "... ran adcpsect for navsteps\n",
      "-------------------------\n",
      "step 7: nav steps: run refabs\n",
      "navstep 3\n",
      "... ran refabs for navsteps\n",
      "-------------------------\n",
      "step 8: nav steps: run smoothr for plots\n",
      "navstep 4\n",
      "... ran smoothr\n",
      "-------------------------\n",
      "step 9: nav steps: smooth navigation for velocities\n",
      "navstep 5\n",
      "smoothing method for ship speed: refsm\n",
      "   smoothing window: 3\n",
      "   ship speed source: nav\n",
      "... shipspeed smoothing step done\n",
      "-------------------------\n",
      "step 10: nav steps: put positions and uvship from refsm into codasdb \n",
      "navstep 6\n",
      "... ran put_txy\n",
      "... ran put_tuv\n",
      "... made navigation plot\n",
      "-------------------------\n",
      "step 11: nav steps: make reflayer plots\n",
      "navstep 7\n",
      "... made reflayer plots\n",
      "---------------------------------------------\n",
      "step 5: run calibration steps \n",
      "\n",
      "...bottom track info in check cal/botmtrk\n",
      "... watertrack info in cal/watertrk\n",
      "... check cal/watertrk for estimate\n",
      "/Users/kthyng/projects/adcp_processing/processed_data/PS18_15_Thyng/postproc/wh1200\n"
     ]
    }
   ],
   "source": [
    "%cd $procpath_unrotated_newrotp\n",
    "!quick_adcp.py --steps2rerun rotate:apply_edit:navsteps:calib --rotate_amplitude 0.9795 --auto\n",
    "%cd -"
   ]
  },
  {
   "cell_type": "markdown",
   "metadata": {},
   "source": [
    "### Check calibration now\n",
    "\n",
    "The following show that the amplitude looks good!"
   ]
  },
  {
   "cell_type": "code",
   "execution_count": 75,
   "metadata": {},
   "outputs": [
    {
     "name": "stdout",
     "output_type": "stream",
     "text": [
      " ADCP watertrack calibration\n",
      "##\n",
      " Time range 311.15 to 311.78\n",
      "   Calculation done at Wed Jan 27 22:12:15 2021\n",
      "   delta-u min = -100.00, max = 100.00\n",
      "   delta-v min = -100.00, max = 100.00\n",
      "   clip_amp = 0.04,  clip_ph =  3.0\n",
      "   clip_dt =   60,  clip_var = 0.050\n",
      "Number of edited points:   2 out of   4\n",
      "   amp   = 1.0000  + 0.1569 (t - 311.2)\n",
      "   phase =   0.04  + 14.2353 (t - 311.2)\n",
      "            median     mean      std\n",
      "amplitude   1.0000   1.0000   0.0170\n",
      "phase       0.0440   0.0440   1.5401\n",
      "nav - pc    0.0000   0.0000  14.1421\n",
      "var         0.0040   0.0040   0.0028\n",
      "min var     0.0030   0.0030   0.0028\n",
      "delta-u     2.0650   2.0650   0.3323\n",
      "delta-v     0.1900   0.1900   1.6971\n",
      "\n"
     ]
    }
   ],
   "source": [
    "path = os.path.join(procpath_unrotated_newrotp, 'cal', 'watertrk', 'adcpcal.out')\n",
    "!tail -20  $path"
   ]
  },
  {
   "cell_type": "markdown",
   "metadata": {},
   "source": [
    "## Summary\n",
    "\n",
    "This cruise is split into two folders. The first folder (`_Cal`) had a transducer phase offset.\n",
    "For the second folder (the rest of the data), that was mostly fixed, i.e. a better angle was used.\n",
    "\n",
    "Here are the general steps I followed:\n",
    "* Combined the datasets\n",
    "* Reprocessed the two segments from scratch\n",
    "* Unrotated the data because the heading was bad\n",
    "* Calculated and applied a time-dependent heading correction from the bottom track data\n",
    "* Applied an amplitude correction of 0.9795."
   ]
  },
  {
   "cell_type": "markdown",
   "metadata": {},
   "source": [
    "## Extract data\n",
    "\n",
    "End up with netCDF (wh1200.nc) and .mat (allbin_*.mat) files located in `~/contour/`."
   ]
  },
  {
   "cell_type": "code",
   "execution_count": 77,
   "metadata": {},
   "outputs": [
    {
     "data": {
      "text/plain": [
       "'/Users/kthyng/projects/adcp_processing/processed_data/PS18_15_Thyng/postproc/wh1200.unrotated.newrotp/contour'"
      ]
     },
     "execution_count": 77,
     "metadata": {},
     "output_type": "execute_result"
    }
   ],
   "source": [
    "procpath_unrotated_newrotp + '/contour'"
   ]
  },
  {
   "cell_type": "code",
   "execution_count": 78,
   "metadata": {},
   "outputs": [
    {
     "name": "stdout",
     "output_type": "stream",
     "text": [
      "/Users/kthyng/projects/adcp_processing/processed_data/PS18_15_Thyng/postproc/wh1200.unrotated.newrotp\n",
      "found dbinfo.txt: use values if otherwise unspecified\n",
      "fix file is a_ps.gps\n",
      "reflayer: ref_method = refsm\n",
      "reflayer: refuv_source = nav\n",
      "reflayer: refuv_smoothwin = 3\n",
      "found steps2rerun: matfiles\n",
      "=====================================================\n",
      "===========  new run: steps2rerun====================\n",
      "=====================================================\n",
      "command line was: /Users/kthyng/opt/miniconda3/envs/pycodas/bin/quick_adcp.py --steps2rerun matfiles --auto\n",
      "cwd is /Users/kthyng/projects/adcp_processing/processed_data/PS18_15_Thyng/postproc/wh1200.unrotated.newrotp\n",
      "about to run these steps:\n",
      " - matfiles\n",
      " - codaseditsetup\n",
      "database time range:\n",
      "2017/11/06  06:31:53 to 2017/11/09  01:02:00\n",
      "(309.272141 to 312.043056)\n",
      "---------------------------------------------\n",
      "step 1: set up files for codas editing (gautoedit.py)\n",
      "\n",
      "---------------------------------------------\n",
      "step 2: extract matlab \"allbins\" \n",
      "\n"
     ]
    }
   ],
   "source": [
    "%cd $procpath_unrotated_newrotp\n",
    "outpath = os.path.join('contour', device)\n",
    "!adcp_nc.py adcpdb $outpath $cruiseid $device\n",
    "!quick_adcp.py --steps2rerun matfiles --auto"
   ]
  },
  {
   "cell_type": "code",
   "execution_count": 79,
   "metadata": {
    "collapsed": true,
    "jupyter": {
     "outputs_hidden": true
    }
   },
   "outputs": [
    {
     "name": "stdout",
     "output_type": "stream",
     "text": [
      "netcdf wh1200 {\n",
      "dimensions:\n",
      "\ttime = 639 ;\n",
      "\tdepth_cell = 40 ;\n",
      "variables:\n",
      "\tint trajectory ;\n",
      "\t\ttrajectory:standard_name = \"trajectory_id\" ;\n",
      "\tdouble time(time) ;\n",
      "\t\ttime:long_name = \"Decimal day\" ;\n",
      "\t\ttime:units = \"days since 2017-01-01 00:00:00\" ;\n",
      "\t\ttime:C_format = \"%12.5f\" ;\n",
      "\t\ttime:standard_name = \"time\" ;\n",
      "\t\ttime:data_min = 309.272141203704 ;\n",
      "\t\ttime:data_max = 312.043055555556 ;\n",
      "\tdouble lon(time) ;\n",
      "\t\tlon:missing_value = 1.e+38 ;\n",
      "\t\tlon:long_name = \"Longitude\" ;\n",
      "\t\tlon:units = \"degrees_east\" ;\n",
      "\t\tlon:C_format = \"%9.4f\" ;\n",
      "\t\tlon:standard_name = \"longitude\" ;\n",
      "\t\tlon:data_min = -94.8160222222222 ;\n",
      "\t\tlon:data_max = -94.5059916666667 ;\n",
      "\tdouble lat(time) ;\n",
      "\t\tlat:missing_value = 1.e+38 ;\n",
      "\t\tlat:long_name = \"Latitude\" ;\n",
      "\t\tlat:units = \"degrees_north\" ;\n",
      "\t\tlat:C_format = \"%9.4f\" ;\n",
      "\t\tlat:standard_name = \"latitude\" ;\n",
      "\t\tlat:data_min = 29.144125 ;\n",
      "\t\tlat:data_max = 29.3919555555556 ;\n",
      "\tfloat depth(time, depth_cell) ;\n",
      "\t\tdepth:missing_value = 1.e+38f ;\n",
      "\t\tdepth:long_name = \"Depth\" ;\n",
      "\t\tdepth:units = \"meter\" ;\n",
      "\t\tdepth:C_format = \"%8.2f\" ;\n",
      "\t\tdepth:positive = \"down\" ;\n",
      "\t\tdepth:data_min = 4.52f ;\n",
      "\t\tdepth:data_max = 24.02f ;\n",
      "\tfloat u(time, depth_cell) ;\n",
      "\t\tu:missing_value = 1.e+38f ;\n",
      "\t\tu:long_name = \"Zonal velocity component\" ;\n",
      "\t\tu:units = \"meter second-1\" ;\n",
      "\t\tu:C_format = \"%7.2f\" ;\n",
      "\t\tu:data_min = -0.2764273f ;\n",
      "\t\tu:data_max = 1.271051f ;\n",
      "\tfloat v(time, depth_cell) ;\n",
      "\t\tv:missing_value = 1.e+38f ;\n",
      "\t\tv:long_name = \"Meridional velocity component\" ;\n",
      "\t\tv:units = \"meter second-1\" ;\n",
      "\t\tv:C_format = \"%7.2f\" ;\n",
      "\t\tv:data_min = -0.7474279f ;\n",
      "\t\tv:data_max = 0.3949516f ;\n",
      "\tshort amp(time, depth_cell) ;\n",
      "\t\tamp:missing_value = 32767s ;\n",
      "\t\tamp:long_name = \"Received signal strength\" ;\n",
      "\t\tamp:C_format = \"%d\" ;\n",
      "\t\tamp:data_min = 44s ;\n",
      "\t\tamp:data_max = 214s ;\n",
      "\tbyte pg(time, depth_cell) ;\n",
      "\t\tpg:missing_value = -1b ;\n",
      "\t\tpg:long_name = \"Percent good pings\" ;\n",
      "\t\tpg:C_format = \"%d\" ;\n",
      "\t\tpg:data_min = 0b ;\n",
      "\t\tpg:data_max = 100b ;\n",
      "\tbyte pflag(time, depth_cell) ;\n",
      "\t\tpflag:long_name = \"Editing flags\" ;\n",
      "\t\tpflag:C_format = \"%d\" ;\n",
      "\t\tpflag:data_min = 0b ;\n",
      "\t\tpflag:data_max = 6b ;\n",
      "\tfloat heading(time) ;\n",
      "\t\theading:missing_value = 1.e+38f ;\n",
      "\t\theading:long_name = \"Ship heading\" ;\n",
      "\t\theading:units = \"degrees\" ;\n",
      "\t\theading:C_format = \"%6.1f\" ;\n",
      "\t\theading:data_min = -179.9792f ;\n",
      "\t\theading:data_max = 177.8964f ;\n",
      "\tfloat tr_temp(time) ;\n",
      "\t\ttr_temp:missing_value = 1.e+38f ;\n",
      "\t\ttr_temp:long_name = \"ADCP transducer temperature\" ;\n",
      "\t\ttr_temp:units = \"Celsius\" ;\n",
      "\t\ttr_temp:C_format = \"%4.1f\" ;\n",
      "\t\ttr_temp:data_min = 17.8178f ;\n",
      "\t\ttr_temp:data_max = 27.89308f ;\n",
      "\tshort num_pings(time) ;\n",
      "\t\tnum_pings:long_name = \"Number of pings averaged per ensemble\" ;\n",
      "\t\tnum_pings:units = \"None\" ;\n",
      "\t\tnum_pings:C_format = \"%d\" ;\n",
      "\t\tnum_pings:data_min = 29s ;\n",
      "\t\tnum_pings:data_max = 251s ;\n",
      "\tfloat uship(time) ;\n",
      "\t\tuship:missing_value = 1.e+38f ;\n",
      "\t\tuship:long_name = \"Ship zonal velocity component\" ;\n",
      "\t\tuship:units = \"meter second-1\" ;\n",
      "\t\tuship:C_format = \"%9.4f\" ;\n",
      "\t\tuship:data_min = -5.713568f ;\n",
      "\t\tuship:data_max = 2.612142f ;\n",
      "\tfloat vship(time) ;\n",
      "\t\tvship:missing_value = 1.e+38f ;\n",
      "\t\tvship:long_name = \"Ship meridional velocity component\" ;\n",
      "\t\tvship:units = \"meter second-1\" ;\n",
      "\t\tvship:C_format = \"%9.4f\" ;\n",
      "\t\tvship:data_min = -3.719602f ;\n",
      "\t\tvship:data_max = 3.407336f ;\n",
      "\n",
      "// global attributes:\n",
      "\t\t:featureType = \"trajectoryProfile\" ;\n",
      "\t\t:history = \"Created: 2021-01-27 22:35:57 UTC\" ;\n",
      "\t\t:Conventions = \"COARDS\" ;\n",
      "\t\t:software = \"pycurrents\" ;\n",
      "\t\t:hg_changeset = \"3125:6cb9d594d019\" ;\n",
      "\t\t:title = \"Shipboard ADCP velocity profiles\" ;\n",
      "\t\t:description = \"Shipboard ADCP velocity profiles from PS18_15_Thyng using instrument wh1200 - Short Version.\" ;\n",
      "\t\t:cruise_id = \"PS18_15_Thyng\" ;\n",
      "\t\t:sonar = \"wh1200\" ;\n",
      "\t\t:yearbase = 2017 ;\n",
      "\t\t:CODAS_variables = \"\\n\",\n",
      "\t\t\t\"Variables in this CODAS short-form Netcdf file are intended for most end-user\\n\",\n",
      "\t\t\t\"scientific analysis and display purposes. For additional information see\\n\",\n",
      "\t\t\t\"the CODAS_processing_note global attribute and the attributes of each\\n\",\n",
      "\t\t\t\"of the variables.\\n\",\n",
      "\t\t\t\"\\n\",\n",
      "\t\t\t\"\\n\",\n",
      "\t\t\t\"============= =================================================================\\n\",\n",
      "\t\t\t\"time          Time at the end of the ensemble, days from start of year.\\n\",\n",
      "\t\t\t\"lon, lat      Longitude, Latitude from GPS at the end of the ensemble.\\n\",\n",
      "\t\t\t\"u,v           Ocean zonal and meridional velocity component profiles.\\n\",\n",
      "\t\t\t\"uship, vship  Zonal and meridional velocity components of the ship.\\n\",\n",
      "\t\t\t\"heading       Mean ship heading during the ensemble.\\n\",\n",
      "\t\t\t\"depth         Bin centers in nominal meters (no sound speed profile correction).\\n\",\n",
      "\t\t\t\"tr_temp       ADCP transducer temperature.\\n\",\n",
      "\t\t\t\"pg            Percent Good pings for u, v averaging after editing.\\n\",\n",
      "\t\t\t\"pflag         Profile Flags based on editing, used to mask u, v.\\n\",\n",
      "\t\t\t\"amp           Received signal strength in ADCP-specific units; no correction\\n\",\n",
      "\t\t\t\"              for spreading or attenuation.\\n\",\n",
      "\t\t\t\"============= =================================================================\\n\",\n",
      "\t\t\t\"\\n\",\n",
      "\t\t\t\"\" ;\n",
      "\t\t:CODAS_processing_note = \"\\n\",\n",
      "\t\t\t\"CODAS processing note:\\n\",\n",
      "\t\t\t\"======================\\n\",\n",
      "\t\t\t\"\\n\",\n",
      "\t\t\t\"Overview\\n\",\n",
      "\t\t\t\"--------\\n\",\n",
      "\t\t\t\"The CODAS database is a specialized storage format designed for\\n\",\n",
      "\t\t\t\"shipboard ADCP data.  \\\"CODAS processing\\\" uses this format to hold\\n\",\n",
      "\t\t\t\"averaged shipboard ADCP velocities and other variables, during the\\n\",\n",
      "\t\t\t\"stages of data processing.  The CODAS database stores velocity\\n\",\n",
      "\t\t\t\"profiles relative to the ship as east and north components along with\\n\",\n",
      "\t\t\t\"position, ship speed, heading, and other variables. The netCDF *short*\\n\",\n",
      "\t\t\t\"form contains ocean velocities relative to earth, time, position,\\n\",\n",
      "\t\t\t\"transducer temperature, and ship heading; these are designed to be\\n\",\n",
      "\t\t\t\"\\\"ready for immediate use\\\".  The netCDF *long* form is just a dump of\\n\",\n",
      "\t\t\t\"the entire CODAS database.  Some variables are no longer used, and all\\n\",\n",
      "\t\t\t\"have names derived from their original CODAS names, dating back to the\\n\",\n",
      "\t\t\t\"late 1980\\'s.\\n\",\n",
      "\t\t\t\"\\n\",\n",
      "\t\t\t\"Post-processing\\n\",\n",
      "\t\t\t\"---------------\\n\",\n",
      "\t\t\t\"CODAS post-processing, i.e. that which occurs after the single-ping\\n\",\n",
      "\t\t\t\"profiles have been vector-averaged and loaded into the CODAS database,\\n\",\n",
      "\t\t\t\"includes editing (using automated algorithms and manual tools),\\n\",\n",
      "\t\t\t\"rotation and scaling of the measured velocities, and application of a\\n\",\n",
      "\t\t\t\"time-varying heading correction.  Additional algorithms developed more\\n\",\n",
      "\t\t\t\"recently include translation of the GPS positions to the transducer\\n\",\n",
      "\t\t\t\"location, and averaging of ship\\'s speed over the times of valid pings\\n\",\n",
      "\t\t\t\"when Percent Good is reduced. Such post-processing is needed prior to\\n\",\n",
      "\t\t\t\"submission of \\\"processed ADCP data\\\" to JASADCP or other archives.\\n\",\n",
      "\t\t\t\"\\n\",\n",
      "\t\t\t\"Full CODAS processing\\n\",\n",
      "\t\t\t\"---------------------\\n\",\n",
      "\t\t\t\"Whenever single-ping data have been recorded, full CODAS processing\\n\",\n",
      "\t\t\t\"provides the best end product.\\n\",\n",
      "\t\t\t\"\\n\",\n",
      "\t\t\t\"Full CODAS processing starts with the single-ping velocities in beam\\n\",\n",
      "\t\t\t\"coordinates.  Based on the transducer orientation relative to the\\n\",\n",
      "\t\t\t\"hull, the beam velocities are transformed to horizontal, vertical, and\\n\",\n",
      "\t\t\t\"\\\"error velocity\\\" components.  Using a reliable heading (typically from\\n\",\n",
      "\t\t\t\"the ship\\'s gyro compass), the velocities in ship coordinates are\\n\",\n",
      "\t\t\t\"rotated into earth coordinates.\\n\",\n",
      "\t\t\t\"\\n\",\n",
      "\t\t\t\"Pings are grouped into an \\\"ensemble\\\" (usually 2-5 minutes duration)\\n\",\n",
      "\t\t\t\"and undergo a suite of automated editing algorithms (removal of\\n\",\n",
      "\t\t\t\"acoustic interference; identification of the bottom; editing based on\\n\",\n",
      "\t\t\t\"thresholds; and specialized editing that targets CTD wire interference\\n\",\n",
      "\t\t\t\"and \\\"weak, biased profiles\\\".  The ensemble of single-ping velocities\\n\",\n",
      "\t\t\t\"is then averaged using an iterative reference layer averaging scheme.\\n\",\n",
      "\t\t\t\"Each ensemble is approximated as a single function of depth, with a\\n\",\n",
      "\t\t\t\"zero-average over a reference layer plus a reference layer velocity\\n\",\n",
      "\t\t\t\"for each ping.  Adding the average of the single-ping reference layer\\n\",\n",
      "\t\t\t\"velocities to the function of depth yields the ensemble-average\\n\",\n",
      "\t\t\t\"velocity profile.  These averaged profiles, along with ancillary\\n\",\n",
      "\t\t\t\"measurements, are written to disk, and subsequently loaded into the\\n\",\n",
      "\t\t\t\"CODAS database. Everything after this stage is \\\"post-processing\\\".\\n\",\n",
      "\t\t\t\"\\n\",\n",
      "\t\t\t\"note (time):\\n\",\n",
      "\t\t\t\"------------\\n\",\n",
      "\t\t\t\"Time is stored in the database using UTC Year, Month, Day, Hour,\\n\",\n",
      "\t\t\t\"Minute, Seconds.  Floating point time \\\"Decimal Day\\\" is the floating\\n\",\n",
      "\t\t\t\"point interval in days since the start of the year, usually the year\\n\",\n",
      "\t\t\t\"of the first day of the cruise.\\n\",\n",
      "\t\t\t\"\\n\",\n",
      "\t\t\t\"\\n\",\n",
      "\t\t\t\"note (heading):\\n\",\n",
      "\t\t\t\"---------------\\n\",\n",
      "\t\t\t\"CODAS processing uses heading from a reliable device, and (if\\n\",\n",
      "\t\t\t\"available) uses a time-dependent correction by an accurate heading\\n\",\n",
      "\t\t\t\"device.  The reliable heading device is typically a gyro compass (for\\n\",\n",
      "\t\t\t\"example, the Bridge gyro).  Accurate heading devices can be POSMV,\\n\",\n",
      "\t\t\t\"Seapath, Phins, Hydrins, MAHRS, or various Ashtech devices; this\\n\",\n",
      "\t\t\t\"varies with the technology of the time.  It is always confusing to\\n\",\n",
      "\t\t\t\"keep track of the sign of the heading correction.  Headings are written\\n\",\n",
      "\t\t\t\"degrees, positive clockwise. setting up some variables:\\n\",\n",
      "\t\t\t\"\\n\",\n",
      "\t\t\t\"X = transducer angle (CONFIG1_heading_bias)\\n\",\n",
      "\t\t\t\"    positive clockwise (beam 3 angle relative to ship)\\n\",\n",
      "\t\t\t\"G = Reliable heading (gyrocompass)\\n\",\n",
      "\t\t\t\"A = Accurate heading\\n\",\n",
      "\t\t\t\"dh = G - A = time-dependent heading correction (ANCIL2_watrk_hd_misalign)\\n\",\n",
      "\t\t\t\"\\n\",\n",
      "\t\t\t\"Rotation of the measured velocities into the correct coordinate system\\n\",\n",
      "\t\t\t\"amounts to (u+i*v)*(exp(i*theta)) where theta is the sum of the\\n\",\n",
      "\t\t\t\"corrected heading and the transducer angle.\\n\",\n",
      "\t\t\t\"\\n\",\n",
      "\t\t\t\"theta = X + (G - dh) = X + G - dh\\n\",\n",
      "\t\t\t\"\\n\",\n",
      "\t\t\t\"\\n\",\n",
      "\t\t\t\"Watertrack and Bottomtrack calibrations give an indication of the\\n\",\n",
      "\t\t\t\"residual angle offset to apply, for example if mean and median of the\\n\",\n",
      "\t\t\t\"phase are all 0.5 (then R=0.5).  Using the \\\"rotate\\\" command,\\n\",\n",
      "\t\t\t\"the value of R is added to \\\"ANCIL2_watrk_hd_misalign\\\".\\n\",\n",
      "\t\t\t\"\\n\",\n",
      "\t\t\t\"new_dh = dh + R\\n\",\n",
      "\t\t\t\"\\n\",\n",
      "\t\t\t\"Therefore the total angle used in rotation is\\n\",\n",
      "\t\t\t\"\\n\",\n",
      "\t\t\t\"new_theta = X + G - dh_new\\n\",\n",
      "\t\t\t\"          = X + G - (dh + R)\\n\",\n",
      "\t\t\t\"          = (X - R) + (G - dh)\\n\",\n",
      "\t\t\t\"\\n\",\n",
      "\t\t\t\"The new estimate of the transducer angle is: X - R\\n\",\n",
      "\t\t\t\"ANCIL2_watrk_hd_misalign contains: dh + R\\n\",\n",
      "\t\t\t\"\\n\",\n",
      "\t\t\t\"====================================================\\n\",\n",
      "\t\t\t\"\\n\",\n",
      "\t\t\t\"Profile flags\\n\",\n",
      "\t\t\t\"-------------\\n\",\n",
      "\t\t\t\"Profile editing flags are provided for each depth cell:\\n\",\n",
      "\t\t\t\"\\n\",\n",
      "\t\t\t\"binary    decimal    below    Percent\\n\",\n",
      "\t\t\t\"value     value      bottom   Good       bin\\n\",\n",
      "\t\t\t\"-------+----------+--------+----------+-------+\\n\",\n",
      "\t\t\t\"000         0\\n\",\n",
      "\t\t\t\"001         1                            bad\\n\",\n",
      "\t\t\t\"010         2                  bad\\n\",\n",
      "\t\t\t\"011         3                  bad       bad\\n\",\n",
      "\t\t\t\"100         4         bad\\n\",\n",
      "\t\t\t\"101         5         bad                bad\\n\",\n",
      "\t\t\t\"110         6         bad      bad\\n\",\n",
      "\t\t\t\"111         7         bad      bad       bad\\n\",\n",
      "\t\t\t\"-------+----------+--------+----------+-------+\\n\",\n",
      "\t\t\t\"\" ;\n",
      "}\n",
      "/Users/kthyng/projects/adcp_processing/processed_data/PS18_15_Thyng/postproc/wh1200\n"
     ]
    }
   ],
   "source": [
    "# look at netCDF file contents\n",
    "outpath = outpath + '.nc'\n",
    "!ncdump -h $outpath\n",
    "%cd -"
   ]
  },
  {
   "cell_type": "markdown",
   "metadata": {},
   "source": [
    "## Compare before and after post-processing\n",
    "\n",
    "So, here is the difference between the cleaned up and the original data. The following is how to run this interactively. "
   ]
  },
  {
   "cell_type": "code",
   "execution_count": null,
   "metadata": {},
   "outputs": [
    {
     "name": "stdout",
     "output_type": "stream",
     "text": [
      "qt.qpa.fonts: Populating font family aliases took 593 ms. Replace uses of missing font family \"?\" with one that exists to avoid this cost. \n",
      "Attribute Qt::AA_EnableHighDpiScaling must be set before QCoreApplication is created.\n",
      "Attribute Qt::AA_EnableHighDpiScaling must be set before QCoreApplication is created.\n",
      "qt.qpa.window: Window position QRect(0,-495 643x445) outside any known screen, using primary screen\n",
      "Attribute Qt::AA_EnableHighDpiScaling must be set before QCoreApplication is created.\n",
      "Attribute Qt::AA_EnableHighDpiScaling must be set before QCoreApplication is created.\n"
     ]
    }
   ],
   "source": [
    "dv -s 2.5 -m5 -n7 -c $procpath_unrotated_newrotp $procpath"
   ]
  },
  {
   "cell_type": "markdown",
   "metadata": {},
   "source": [
    "Here is a snapshot of the results. \n",
    "\n",
    "Starting from the top subplot:\n",
    "* u velocity, original\n",
    "* u velocity, final\n",
    "* difference: u (orig) - u (final)\n",
    "* v velocity, original\n",
    "* v velocity, final\n",
    "* difference: v (orig) - v (final)"
   ]
  },
  {
   "cell_type": "code",
   "execution_count": null,
   "metadata": {},
   "outputs": [],
   "source": []
  },
  {
   "cell_type": "code",
   "execution_count": null,
   "metadata": {},
   "outputs": [],
   "source": []
  },
  {
   "cell_type": "code",
   "execution_count": null,
   "metadata": {},
   "outputs": [],
   "source": []
  },
  {
   "cell_type": "code",
   "execution_count": null,
   "metadata": {},
   "outputs": [],
   "source": []
  },
  {
   "cell_type": "code",
   "execution_count": null,
   "metadata": {},
   "outputs": [],
   "source": []
  },
  {
   "cell_type": "code",
   "execution_count": null,
   "metadata": {},
   "outputs": [],
   "source": []
  },
  {
   "cell_type": "code",
   "execution_count": null,
   "metadata": {},
   "outputs": [],
   "source": []
  },
  {
   "cell_type": "code",
   "execution_count": null,
   "metadata": {},
   "outputs": [],
   "source": []
  }
 ],
 "metadata": {
  "kernelspec": {
   "display_name": "Python 3",
   "language": "python",
   "name": "python3"
  },
  "language_info": {
   "codemirror_mode": {
    "name": "ipython",
    "version": 3
   },
   "file_extension": ".py",
   "mimetype": "text/x-python",
   "name": "python",
   "nbconvert_exporter": "python",
   "pygments_lexer": "ipython3",
   "version": "3.7.9"
  },
  "toc-autonumbering": false
 },
 "nbformat": 4,
 "nbformat_minor": 4
}
