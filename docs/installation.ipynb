{
 "cells": [
  {
   "cell_type": "markdown",
   "metadata": {},
   "source": [
    "# Installation"
   ]
  },
  {
   "cell_type": "markdown",
   "metadata": {},
   "source": [
    "## Setting up Python\n",
    "\n",
    "The approach here is to use a Python environment for your ADCP work so as to not interfere with your other work.\n",
    "\n",
    "I did this using a Mac, so it is probably appropriate for Mac and Linux and might need some adjusting for a Windows machine.\n",
    "\n",
    "1. Install miniconda\n",
    " * [Download](https://conda.io/miniconda.html) appropriate file. You need to use Python 2 for UHDAS/CODAS.\n",
    " * In terminal window: \n",
    "         bash [download file]\n",
    "1. Configure conda so that channel conda-forge is used at highest priority:\n",
    "        conda config --add channels conda-forge --force\n",
    "1. Create environment to use in your ADCP work. `matplotlib` needs to be version 1.5.1 currently (Oct 2017). Included are other packages I often use. `basemap`, `netCDF4`, `numpy`, `future`, and `wxpython` are needed by UHDAS/CODAS. `jupyter` is needed to run these notebooks. Adjust the list as needed.\n",
    "        conda create --name adcp python=2.7 cartopy basemap matplotlib=1.5.1 ipython netCDF4 fiona shapely pandas xarray cmocean jupyter scipy numpy seaborn beautifulsoup4 wxpython future --yes\n",
    "1. Later if you need more packages you can add them with\n",
    "        conda install [package name]\n",
    "\n",
    "When you want to use your python environment in a terminal window, type:\n",
    "        source activate adcp\n",
    "\n",
    "If you want to stop using it:\n",
    "        source deactivate"
   ]
  },
  {
   "cell_type": "markdown",
   "metadata": {},
   "source": [
    "## Setting up for ADCP processing\n",
    "\n",
    "Instructions starting from [here](https://currents.soest.hawaii.edu/docs/adcp_doc/codas_setup/anaconda_install/index.html):\n",
    "\n",
    "* Set up project location, with a base like:\n",
    "        /Users/[username]/projects/adcpcode\n",
    "* install mercurial:\n",
    "        brew install mercurial (Mac)\n",
    "* install a C compiler\n",
    "    * (already have with x code)\n",
    "* put aliases for wxpython in my .bash_profile (important for Mac to use pythonw):\n",
    "        alias dv='pythonw `which dataviewer.py` '\n",
    "        alias fv='pythonw `which figview.py` .'\n",
    "        alias gg='pythonw `which gautoedit.py` -n5'\n",
    "* Turn on python environment:\n",
    "        source activate adcp\n",
    "* install codas3:\n",
    "        cd codas3\n",
    "        ./waf configure --python_env\n",
    "        ./waf build\n",
    "        ./waf install\n",
    "        cd ..\n",
    "* install pycurrents:\n",
    "        cd pycurrents\n",
    "        ./runsetup.py\n",
    "        cd ..\n",
    "* install uhdas and onship:\n",
    "        cd uhdas\n",
    "        runsetup.py\n",
    "        cd ..\n",
    "\n",
    "        cd onship\n",
    "        python setup.py build\n",
    "        python setup.py install\n",
    "        cd ..\n",
    "* download zip files: http://currents.soest.hawaii.edu/docs/zipped and move to `~/adcpcode/programs/`\n",
    "    * unzip all\n",
    "* [download](https://currents.soest.hawaii.edu/docs/adcp_doc/codas_setup/codas_config/topo.html) topography\n",
    "    * Put link to topography in miniconda environment file. So, create link into the miniconda directory:\n",
    "                ln -s ~/adcpcode/topog/ ~/miniconda3/envs/adcp/"
   ]
  }
 ],
 "metadata": {
  "kernelspec": {
   "display_name": "Python 2",
   "language": "python",
   "name": "python2"
  },
  "language_info": {
   "codemirror_mode": {
    "name": "ipython",
    "version": 2
   },
   "file_extension": ".py",
   "mimetype": "text/x-python",
   "name": "python",
   "nbconvert_exporter": "python",
   "pygments_lexer": "ipython2",
   "version": "2.7.14"
  }
 },
 "nbformat": 4,
 "nbformat_minor": 2
}
